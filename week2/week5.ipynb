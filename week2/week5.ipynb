{
 "cells": [
  {
   "cell_type": "code",
   "execution_count": 1,
   "metadata": {},
   "outputs": [],
   "source": [
    "import pandas as pd"
   ]
  },
  {
   "cell_type": "code",
   "execution_count": 2,
   "metadata": {},
   "outputs": [],
   "source": [
    "df110t = pd.read_csv('110-test.csv')\n",
    "df110s = pd.read_csv('110-student.csv')\n",
    "df109t = pd.read_csv('109-test.csv')\n",
    "df109s = pd.read_csv('109-student.csv')\n",
    "df108t = pd.read_csv('108-test.csv')\n",
    "df108s = pd.read_csv('108-student.csv')\n",
    "df107t = pd.read_csv('107-test.csv')\n",
    "df107s = pd.read_csv('107-student.csv')"
   ]
  },
  {
   "cell_type": "code",
   "execution_count": 3,
   "metadata": {},
   "outputs": [],
   "source": [
    "df110st = pd.merge(df110t, df110s)\n",
    "df110st['year'] = 2021\n",
    "df109st = pd.merge(df109t, df109s)\n",
    "df109st['year'] = 2020\n",
    "df108st = pd.merge(df108t, df108s)\n",
    "df108st['year'] = 2019\n",
    "df107st = pd.merge(df107t, df107s)\n",
    "df107st['year'] = 2018"
   ]
  },
  {
   "cell_type": "code",
   "execution_count": 4,
   "metadata": {},
   "outputs": [],
   "source": [
    "df110st['教師總人數'] = df110st.iloc[:,3:6].sum(axis=1)\n",
    "df110st['學生總人數'] = df110st.iloc[:,6:10].sum(axis=1)\n",
    "df109st['教師總人數'] = df109st.iloc[:,3:6].sum(axis=1)\n",
    "df109st['學生總人數'] = df109st.iloc[:,6:10].sum(axis=1)\n",
    "df108st['教師總人數'] = df108st.iloc[:,3:6].sum(axis=1)\n",
    "df108st['學生總人數'] = df108st.iloc[:,6:10].sum(axis=1)\n",
    "df107st['教師總人數'] = df107st.iloc[:,3:6].sum(axis=1)\n",
    "df107st['學生總人數'] = df107st.iloc[:,6:10].sum(axis=1)"
   ]
  },
  {
   "cell_type": "code",
   "execution_count": 5,
   "metadata": {},
   "outputs": [],
   "source": [
    "df110st['師生比'] = df110st['學生總人數']/df110st['教師總人數']\n",
    "df109st['師生比'] = df109st['學生總人數']/df109st['教師總人數']\n",
    "df108st['師生比'] = df108st['學生總人數']/df108st['教師總人數']\n",
    "df107st['師生比'] = df107st['學生總人數']/df107st['教師總人數']"
   ]
  },
  {
   "cell_type": "code",
   "execution_count": 10,
   "metadata": {
    "scrolled": true
   },
   "outputs": [],
   "source": [
    "df110sum = df110st[['區域','縣市','學校','教師總人數','學生總人數','師生比','year']]\n",
    "df109sum = df109st[['區域','縣市','學校','教師總人數','學生總人數','師生比','year']]\n",
    "df108sum = df108st[['區域','縣市','學校','教師總人數','學生總人數','師生比','year']]\n",
    "df107sum = df107st[['區域','縣市','學校','教師總人數','學生總人數','師生比','year']]"
   ]
  },
  {
   "cell_type": "code",
   "execution_count": 11,
   "metadata": {
    "scrolled": true
   },
   "outputs": [
    {
     "data": {
      "text/html": [
       "<div>\n",
       "<style scoped>\n",
       "    .dataframe tbody tr th:only-of-type {\n",
       "        vertical-align: middle;\n",
       "    }\n",
       "\n",
       "    .dataframe tbody tr th {\n",
       "        vertical-align: top;\n",
       "    }\n",
       "\n",
       "    .dataframe thead th {\n",
       "        text-align: right;\n",
       "    }\n",
       "</style>\n",
       "<table border=\"1\" class=\"dataframe\">\n",
       "  <thead>\n",
       "    <tr style=\"text-align: right;\">\n",
       "      <th></th>\n",
       "      <th>區域</th>\n",
       "      <th>縣市</th>\n",
       "      <th>學校</th>\n",
       "      <th>教師總人數</th>\n",
       "      <th>學生總人數</th>\n",
       "      <th>師生比</th>\n",
       "      <th>year</th>\n",
       "    </tr>\n",
       "  </thead>\n",
       "  <tbody>\n",
       "    <tr>\n",
       "      <th>0</th>\n",
       "      <td>北</td>\n",
       "      <td>新北市</td>\n",
       "      <td>新北特殊教育學校</td>\n",
       "      <td>87</td>\n",
       "      <td>259</td>\n",
       "      <td>2.977011</td>\n",
       "      <td>2021</td>\n",
       "    </tr>\n",
       "    <tr>\n",
       "      <th>1</th>\n",
       "      <td>北</td>\n",
       "      <td>宜蘭縣</td>\n",
       "      <td>宜蘭特殊教育學校</td>\n",
       "      <td>33</td>\n",
       "      <td>91</td>\n",
       "      <td>2.757576</td>\n",
       "      <td>2021</td>\n",
       "    </tr>\n",
       "    <tr>\n",
       "      <th>2</th>\n",
       "      <td>北</td>\n",
       "      <td>桃園市</td>\n",
       "      <td>桃園特殊教育學校</td>\n",
       "      <td>106</td>\n",
       "      <td>355</td>\n",
       "      <td>3.349057</td>\n",
       "      <td>2021</td>\n",
       "    </tr>\n",
       "    <tr>\n",
       "      <th>3</th>\n",
       "      <td>北</td>\n",
       "      <td>新竹縣</td>\n",
       "      <td>新竹特殊教育學校</td>\n",
       "      <td>55</td>\n",
       "      <td>194</td>\n",
       "      <td>3.527273</td>\n",
       "      <td>2021</td>\n",
       "    </tr>\n",
       "    <tr>\n",
       "      <th>4</th>\n",
       "      <td>中</td>\n",
       "      <td>臺中市</td>\n",
       "      <td>惠明盲校</td>\n",
       "      <td>16</td>\n",
       "      <td>57</td>\n",
       "      <td>3.562500</td>\n",
       "      <td>2021</td>\n",
       "    </tr>\n",
       "    <tr>\n",
       "      <th>...</th>\n",
       "      <td>...</td>\n",
       "      <td>...</td>\n",
       "      <td>...</td>\n",
       "      <td>...</td>\n",
       "      <td>...</td>\n",
       "      <td>...</td>\n",
       "      <td>...</td>\n",
       "    </tr>\n",
       "    <tr>\n",
       "      <th>23</th>\n",
       "      <td>北</td>\n",
       "      <td>基隆市</td>\n",
       "      <td>基隆特殊教育學校</td>\n",
       "      <td>31</td>\n",
       "      <td>114</td>\n",
       "      <td>3.677419</td>\n",
       "      <td>2018</td>\n",
       "    </tr>\n",
       "    <tr>\n",
       "      <th>24</th>\n",
       "      <td>南</td>\n",
       "      <td>高雄市</td>\n",
       "      <td>楠梓特殊學校</td>\n",
       "      <td>80</td>\n",
       "      <td>184</td>\n",
       "      <td>2.300000</td>\n",
       "      <td>2018</td>\n",
       "    </tr>\n",
       "    <tr>\n",
       "      <th>25</th>\n",
       "      <td>南</td>\n",
       "      <td>高雄市</td>\n",
       "      <td>成功特殊教育學校</td>\n",
       "      <td>47</td>\n",
       "      <td>121</td>\n",
       "      <td>2.574468</td>\n",
       "      <td>2018</td>\n",
       "    </tr>\n",
       "    <tr>\n",
       "      <th>26</th>\n",
       "      <td>南</td>\n",
       "      <td>高雄市</td>\n",
       "      <td>高雄特殊教育學校</td>\n",
       "      <td>53</td>\n",
       "      <td>178</td>\n",
       "      <td>3.358491</td>\n",
       "      <td>2018</td>\n",
       "    </tr>\n",
       "    <tr>\n",
       "      <th>27</th>\n",
       "      <td>中</td>\n",
       "      <td>苗栗縣</td>\n",
       "      <td>苗栗特殊教育學校</td>\n",
       "      <td>38</td>\n",
       "      <td>118</td>\n",
       "      <td>3.105263</td>\n",
       "      <td>2018</td>\n",
       "    </tr>\n",
       "  </tbody>\n",
       "</table>\n",
       "<p>112 rows × 7 columns</p>\n",
       "</div>"
      ],
      "text/plain": [
       "   區域   縣市        學校  教師總人數  學生總人數       師生比  year\n",
       "0   北  新北市  新北特殊教育學校     87    259  2.977011  2021\n",
       "1   北  宜蘭縣  宜蘭特殊教育學校     33     91  2.757576  2021\n",
       "2   北  桃園市  桃園特殊教育學校    106    355  3.349057  2021\n",
       "3   北  新竹縣  新竹特殊教育學校     55    194  3.527273  2021\n",
       "4   中  臺中市      惠明盲校     16     57  3.562500  2021\n",
       ".. ..  ...       ...    ...    ...       ...   ...\n",
       "23  北  基隆市  基隆特殊教育學校     31    114  3.677419  2018\n",
       "24  南  高雄市    楠梓特殊學校     80    184  2.300000  2018\n",
       "25  南  高雄市  成功特殊教育學校     47    121  2.574468  2018\n",
       "26  南  高雄市  高雄特殊教育學校     53    178  3.358491  2018\n",
       "27  中  苗栗縣  苗栗特殊教育學校     38    118  3.105263  2018\n",
       "\n",
       "[112 rows x 7 columns]"
      ]
     },
     "execution_count": 11,
     "metadata": {},
     "output_type": "execute_result"
    }
   ],
   "source": [
    "frames = [df110sum, df109sum, df108sum, df107sum]\n",
    "result = pd.concat(frames)\n",
    "result"
   ]
  },
  {
   "cell_type": "code",
   "execution_count": 12,
   "metadata": {},
   "outputs": [
    {
     "name": "stdout",
     "output_type": "stream",
     "text": [
      "Requirement already satisfied: plotly in c:\\users\\peter\\anaconda3\\lib\\site-packages (5.13.1)\n",
      "Requirement already satisfied: tenacity>=6.2.0 in c:\\users\\peter\\anaconda3\\lib\\site-packages (from plotly) (8.2.2)\n"
     ]
    }
   ],
   "source": [
    "import plotly.express as px\n",
    "!pip install plotly"
   ]
  },
  {
   "cell_type": "code",
   "execution_count": 14,
   "metadata": {},
   "outputs": [],
   "source": [
    "#1.呈圖表，哪一個區域出現師生比落差最大？\n",
    "#2.呈圖表，哪一個區域師生比較高？\n",
    "#3.呈圖表，從107年~110年，台灣特殊學校師生比變動有何趨勢？"
   ]
  },
  {
   "cell_type": "code",
   "execution_count": 15,
   "metadata": {
    "scrolled": true
   },
   "outputs": [
    {
     "data": {
      "application/vnd.plotly.v1+json": {
       "config": {
        "plotlyServerURL": "https://plot.ly"
       },
       "data": [
        {
         "hovertemplate": "<b>%{hovertext}</b><br><br>區域=北<br>year=2021<br>學生總人數=%{x}<br>教師總人數=%{y}<br>師生比=%{marker.size}<extra></extra>",
         "hovertext": [
          "新北特殊教育學校",
          "宜蘭特殊教育學校",
          "桃園特殊教育學校",
          "新竹特殊教育學校",
          "臺北市立啟聰學校",
          "臺北特殊教育學校",
          "臺北市立啟明學校",
          "文山特殊教育學校",
          "基隆特殊教育學校"
         ],
         "ids": [
          "新北特殊教育學校",
          "宜蘭特殊教育學校",
          "桃園特殊教育學校",
          "新竹特殊教育學校",
          "臺北市立啟聰學校",
          "臺北特殊教育學校",
          "臺北市立啟明學校",
          "文山特殊教育學校",
          "基隆特殊教育學校"
         ],
         "legendgroup": "北",
         "marker": {
          "color": "#636efa",
          "size": [
           2.9770114942528734,
           2.757575757575758,
           3.349056603773585,
           3.5272727272727273,
           1.5058823529411764,
           2.32183908045977,
           1.3620689655172413,
           1.2836879432624113,
           3.3870967741935485
          ],
          "sizemode": "area",
          "sizeref": 0.005522875816993464,
          "symbol": "circle"
         },
         "mode": "markers",
         "name": "北",
         "orientation": "v",
         "showlegend": true,
         "type": "scatter",
         "x": [
          259,
          91,
          355,
          194,
          128,
          202,
          79,
          181,
          105
         ],
         "xaxis": "x",
         "y": [
          87,
          33,
          106,
          55,
          85,
          87,
          58,
          141,
          31
         ],
         "yaxis": "y"
        },
        {
         "hovertemplate": "<b>%{hovertext}</b><br><br>區域=中<br>year=2021<br>學生總人數=%{x}<br>教師總人數=%{y}<br>師生比=%{marker.size}<extra></extra>",
         "hovertext": [
          "惠明盲校",
          "臺中啟明學校",
          "和美實驗學校",
          "彰化特殊教育學校",
          "南投特殊教育學校",
          "臺中特殊教育學校",
          "臺中啟聰學校",
          "雲林特殊教育學校",
          "苗栗特殊教育學校"
         ],
         "ids": [
          "惠明盲校",
          "臺中啟明學校",
          "和美實驗學校",
          "彰化特殊教育學校",
          "南投特殊教育學校",
          "臺中特殊教育學校",
          "臺中啟聰學校",
          "雲林特殊教育學校",
          "苗栗特殊教育學校"
         ],
         "legendgroup": "中",
         "marker": {
          "color": "#EF553B",
          "size": [
           3.5625,
           2.35,
           2.5268817204301075,
           2.934065934065934,
           3.257142857142857,
           3.433734939759036,
           2.548780487804878,
           3.5,
           2.5609756097560976
          ],
          "sizemode": "area",
          "sizeref": 0.005522875816993464,
          "symbol": "circle"
         },
         "mode": "markers",
         "name": "中",
         "orientation": "v",
         "showlegend": true,
         "type": "scatter",
         "x": [
          57,
          94,
          235,
          267,
          114,
          285,
          209,
          182,
          105
         ],
         "xaxis": "x",
         "y": [
          16,
          40,
          93,
          91,
          35,
          83,
          82,
          52,
          41
         ],
         "yaxis": "y"
        },
        {
         "hovertemplate": "<b>%{hovertext}</b><br><br>區域=南<br>year=2021<br>學生總人數=%{x}<br>教師總人數=%{y}<br>師生比=%{marker.size}<extra></extra>",
         "hovertext": [
          "臺南大學附屬啟聰學校",
          "仁武特殊教育學校",
          "屏東特殊教育學校",
          "嘉義特殊教育學校",
          "臺南特殊教育學校",
          "楠梓特殊學校",
          "成功特殊教育學校",
          "高雄特殊教育學校"
         ],
         "ids": [
          "臺南大學附屬啟聰學校",
          "仁武特殊教育學校",
          "屏東特殊教育學校",
          "嘉義特殊教育學校",
          "臺南特殊教育學校",
          "楠梓特殊學校",
          "成功特殊教育學校",
          "高雄特殊教育學校"
         ],
         "legendgroup": "南",
         "marker": {
          "color": "#00cc96",
          "size": [
           2.5357142857142856,
           2.642857142857143,
           4.9375,
           2.971014492753623,
           3.3013698630136985,
           1.9375,
           3.175,
           2.7058823529411766
          ],
          "sizemode": "area",
          "sizeref": 0.005522875816993464,
          "symbol": "circle"
         },
         "mode": "markers",
         "name": "南",
         "orientation": "v",
         "showlegend": true,
         "type": "scatter",
         "x": [
          142,
          111,
          158,
          205,
          241,
          124,
          127,
          138
         ],
         "xaxis": "x",
         "y": [
          56,
          42,
          32,
          69,
          73,
          64,
          40,
          51
         ],
         "yaxis": "y"
        },
        {
         "hovertemplate": "<b>%{hovertext}</b><br><br>區域=東<br>year=2021<br>學生總人數=%{x}<br>教師總人數=%{y}<br>師生比=%{marker.size}<extra></extra>",
         "hovertext": [
          "臺東大學附屬特教學校",
          "花蓮特殊教育學校"
         ],
         "ids": [
          "臺東大學附屬特教學校",
          "花蓮特殊教育學校"
         ],
         "legendgroup": "東",
         "marker": {
          "color": "#ab63fa",
          "size": [
           3.2903225806451615,
           2.6666666666666665
          ],
          "sizemode": "area",
          "sizeref": 0.005522875816993464,
          "symbol": "circle"
         },
         "mode": "markers",
         "name": "東",
         "orientation": "v",
         "showlegend": true,
         "type": "scatter",
         "x": [
          102,
          104
         ],
         "xaxis": "x",
         "y": [
          31,
          39
         ],
         "yaxis": "y"
        }
       ],
       "frames": [
        {
         "data": [
          {
           "hovertemplate": "<b>%{hovertext}</b><br><br>區域=北<br>year=2021<br>學生總人數=%{x}<br>教師總人數=%{y}<br>師生比=%{marker.size}<extra></extra>",
           "hovertext": [
            "新北特殊教育學校",
            "宜蘭特殊教育學校",
            "桃園特殊教育學校",
            "新竹特殊教育學校",
            "臺北市立啟聰學校",
            "臺北特殊教育學校",
            "臺北市立啟明學校",
            "文山特殊教育學校",
            "基隆特殊教育學校"
           ],
           "ids": [
            "新北特殊教育學校",
            "宜蘭特殊教育學校",
            "桃園特殊教育學校",
            "新竹特殊教育學校",
            "臺北市立啟聰學校",
            "臺北特殊教育學校",
            "臺北市立啟明學校",
            "文山特殊教育學校",
            "基隆特殊教育學校"
           ],
           "legendgroup": "北",
           "marker": {
            "color": "#636efa",
            "size": [
             2.9770114942528734,
             2.757575757575758,
             3.349056603773585,
             3.5272727272727273,
             1.5058823529411764,
             2.32183908045977,
             1.3620689655172413,
             1.2836879432624113,
             3.3870967741935485
            ],
            "sizemode": "area",
            "sizeref": 0.005522875816993464,
            "symbol": "circle"
           },
           "mode": "markers",
           "name": "北",
           "orientation": "v",
           "showlegend": true,
           "type": "scatter",
           "x": [
            259,
            91,
            355,
            194,
            128,
            202,
            79,
            181,
            105
           ],
           "xaxis": "x",
           "y": [
            87,
            33,
            106,
            55,
            85,
            87,
            58,
            141,
            31
           ],
           "yaxis": "y"
          },
          {
           "hovertemplate": "<b>%{hovertext}</b><br><br>區域=中<br>year=2021<br>學生總人數=%{x}<br>教師總人數=%{y}<br>師生比=%{marker.size}<extra></extra>",
           "hovertext": [
            "惠明盲校",
            "臺中啟明學校",
            "和美實驗學校",
            "彰化特殊教育學校",
            "南投特殊教育學校",
            "臺中特殊教育學校",
            "臺中啟聰學校",
            "雲林特殊教育學校",
            "苗栗特殊教育學校"
           ],
           "ids": [
            "惠明盲校",
            "臺中啟明學校",
            "和美實驗學校",
            "彰化特殊教育學校",
            "南投特殊教育學校",
            "臺中特殊教育學校",
            "臺中啟聰學校",
            "雲林特殊教育學校",
            "苗栗特殊教育學校"
           ],
           "legendgroup": "中",
           "marker": {
            "color": "#EF553B",
            "size": [
             3.5625,
             2.35,
             2.5268817204301075,
             2.934065934065934,
             3.257142857142857,
             3.433734939759036,
             2.548780487804878,
             3.5,
             2.5609756097560976
            ],
            "sizemode": "area",
            "sizeref": 0.005522875816993464,
            "symbol": "circle"
           },
           "mode": "markers",
           "name": "中",
           "orientation": "v",
           "showlegend": true,
           "type": "scatter",
           "x": [
            57,
            94,
            235,
            267,
            114,
            285,
            209,
            182,
            105
           ],
           "xaxis": "x",
           "y": [
            16,
            40,
            93,
            91,
            35,
            83,
            82,
            52,
            41
           ],
           "yaxis": "y"
          },
          {
           "hovertemplate": "<b>%{hovertext}</b><br><br>區域=南<br>year=2021<br>學生總人數=%{x}<br>教師總人數=%{y}<br>師生比=%{marker.size}<extra></extra>",
           "hovertext": [
            "臺南大學附屬啟聰學校",
            "仁武特殊教育學校",
            "屏東特殊教育學校",
            "嘉義特殊教育學校",
            "臺南特殊教育學校",
            "楠梓特殊學校",
            "成功特殊教育學校",
            "高雄特殊教育學校"
           ],
           "ids": [
            "臺南大學附屬啟聰學校",
            "仁武特殊教育學校",
            "屏東特殊教育學校",
            "嘉義特殊教育學校",
            "臺南特殊教育學校",
            "楠梓特殊學校",
            "成功特殊教育學校",
            "高雄特殊教育學校"
           ],
           "legendgroup": "南",
           "marker": {
            "color": "#00cc96",
            "size": [
             2.5357142857142856,
             2.642857142857143,
             4.9375,
             2.971014492753623,
             3.3013698630136985,
             1.9375,
             3.175,
             2.7058823529411766
            ],
            "sizemode": "area",
            "sizeref": 0.005522875816993464,
            "symbol": "circle"
           },
           "mode": "markers",
           "name": "南",
           "orientation": "v",
           "showlegend": true,
           "type": "scatter",
           "x": [
            142,
            111,
            158,
            205,
            241,
            124,
            127,
            138
           ],
           "xaxis": "x",
           "y": [
            56,
            42,
            32,
            69,
            73,
            64,
            40,
            51
           ],
           "yaxis": "y"
          },
          {
           "hovertemplate": "<b>%{hovertext}</b><br><br>區域=東<br>year=2021<br>學生總人數=%{x}<br>教師總人數=%{y}<br>師生比=%{marker.size}<extra></extra>",
           "hovertext": [
            "臺東大學附屬特教學校",
            "花蓮特殊教育學校"
           ],
           "ids": [
            "臺東大學附屬特教學校",
            "花蓮特殊教育學校"
           ],
           "legendgroup": "東",
           "marker": {
            "color": "#ab63fa",
            "size": [
             3.2903225806451615,
             2.6666666666666665
            ],
            "sizemode": "area",
            "sizeref": 0.005522875816993464,
            "symbol": "circle"
           },
           "mode": "markers",
           "name": "東",
           "orientation": "v",
           "showlegend": true,
           "type": "scatter",
           "x": [
            102,
            104
           ],
           "xaxis": "x",
           "y": [
            31,
            39
           ],
           "yaxis": "y"
          }
         ],
         "name": "2021"
        },
        {
         "data": [
          {
           "hovertemplate": "<b>%{hovertext}</b><br><br>區域=北<br>year=2020<br>學生總人數=%{x}<br>教師總人數=%{y}<br>師生比=%{marker.size}<extra></extra>",
           "hovertext": [
            "新北特殊教育學校",
            "宜蘭特殊教育學校",
            "桃園特殊教育學校",
            "新竹特殊教育學校",
            "臺北市立啟聰學校",
            "臺北特殊教育學校",
            "臺北市立啟明學校",
            "文山特殊教育學校",
            "基隆特殊教育學校"
           ],
           "ids": [
            "新北特殊教育學校",
            "宜蘭特殊教育學校",
            "桃園特殊教育學校",
            "新竹特殊教育學校",
            "臺北市立啟聰學校",
            "臺北特殊教育學校",
            "臺北市立啟明學校",
            "文山特殊教育學校",
            "基隆特殊教育學校"
           ],
           "legendgroup": "北",
           "marker": {
            "color": "#636efa",
            "size": [
             2.888888888888889,
             2.5142857142857142,
             3.4814814814814814,
             3.4727272727272727,
             1.5061728395061729,
             2.369565217391304,
             1.5964912280701755,
             1.348148148148148,
             3.870967741935484
            ],
            "sizemode": "area",
            "sizeref": 0.005522875816993464,
            "symbol": "circle"
           },
           "mode": "markers",
           "name": "北",
           "orientation": "v",
           "showlegend": true,
           "type": "scatter",
           "x": [
            260,
            88,
            376,
            191,
            122,
            218,
            91,
            182,
            120
           ],
           "xaxis": "x",
           "y": [
            90,
            35,
            108,
            55,
            81,
            92,
            57,
            135,
            31
           ],
           "yaxis": "y"
          },
          {
           "hovertemplate": "<b>%{hovertext}</b><br><br>區域=中<br>year=2020<br>學生總人數=%{x}<br>教師總人數=%{y}<br>師生比=%{marker.size}<extra></extra>",
           "hovertext": [
            "惠明盲校",
            "臺中啟明學校",
            "和美實驗學校",
            "彰化特殊教育學校",
            "南投特殊教育學校",
            "臺中特殊教育學校",
            "臺中啟聰學校",
            "雲林特殊教育學校",
            "苗栗特殊教育學校"
           ],
           "ids": [
            "惠明盲校",
            "臺中啟明學校",
            "和美實驗學校",
            "彰化特殊教育學校",
            "南投特殊教育學校",
            "臺中特殊教育學校",
            "臺中啟聰學校",
            "雲林特殊教育學校",
            "苗栗特殊教育學校"
           ],
           "legendgroup": "中",
           "marker": {
            "color": "#EF553B",
            "size": [
             3.7857142857142856,
             2.5,
             2.3789473684210525,
             3.2674418604651163,
             3.257142857142857,
             3.8354430379746836,
             2.548780487804878,
             3.6538461538461537,
             2.8421052631578947
            ],
            "sizemode": "area",
            "sizeref": 0.005522875816993464,
            "symbol": "circle"
           },
           "mode": "markers",
           "name": "中",
           "orientation": "v",
           "showlegend": true,
           "type": "scatter",
           "x": [
            53,
            95,
            226,
            281,
            114,
            303,
            209,
            190,
            108
           ],
           "xaxis": "x",
           "y": [
            14,
            38,
            95,
            86,
            35,
            79,
            82,
            52,
            38
           ],
           "yaxis": "y"
          },
          {
           "hovertemplate": "<b>%{hovertext}</b><br><br>區域=南<br>year=2020<br>學生總人數=%{x}<br>教師總人數=%{y}<br>師生比=%{marker.size}<extra></extra>",
           "hovertext": [
            "臺南大學附屬啟聰學校",
            "仁武特殊教育學校",
            "屏東特殊教育學校",
            "嘉義特殊教育學校",
            "臺南特殊教育學校",
            "楠梓特殊學校",
            "成功特殊教育學校",
            "高雄特殊教育學校"
           ],
           "ids": [
            "臺南大學附屬啟聰學校",
            "仁武特殊教育學校",
            "屏東特殊教育學校",
            "嘉義特殊教育學校",
            "臺南特殊教育學校",
            "楠梓特殊學校",
            "成功特殊教育學校",
            "高雄特殊教育學校"
           ],
           "legendgroup": "南",
           "marker": {
            "color": "#00cc96",
            "size": [
             2,
             2.727272727272727,
             4.9393939393939394,
             3.0135135135135136,
             3.3783783783783785,
             1.7848101265822784,
             2.953488372093023,
             2.7222222222222223
            ],
            "sizemode": "area",
            "sizeref": 0.005522875816993464,
            "symbol": "circle"
           },
           "mode": "markers",
           "name": "南",
           "orientation": "v",
           "showlegend": true,
           "type": "scatter",
           "x": [
            146,
            120,
            163,
            223,
            250,
            141,
            127,
            147
           ],
           "xaxis": "x",
           "y": [
            73,
            44,
            33,
            74,
            74,
            79,
            43,
            54
           ],
           "yaxis": "y"
          },
          {
           "hovertemplate": "<b>%{hovertext}</b><br><br>區域=東<br>year=2020<br>學生總人數=%{x}<br>教師總人數=%{y}<br>師生比=%{marker.size}<extra></extra>",
           "hovertext": [
            "臺東大學附屬特教學校",
            "花蓮特殊教育學校"
           ],
           "ids": [
            "臺東大學附屬特教學校",
            "花蓮特殊教育學校"
           ],
           "legendgroup": "東",
           "marker": {
            "color": "#ab63fa",
            "size": [
             3.212121212121212,
             2.775
            ],
            "sizemode": "area",
            "sizeref": 0.005522875816993464,
            "symbol": "circle"
           },
           "mode": "markers",
           "name": "東",
           "orientation": "v",
           "showlegend": true,
           "type": "scatter",
           "x": [
            106,
            111
           ],
           "xaxis": "x",
           "y": [
            33,
            40
           ],
           "yaxis": "y"
          }
         ],
         "name": "2020"
        },
        {
         "data": [
          {
           "hovertemplate": "<b>%{hovertext}</b><br><br>區域=北<br>year=2019<br>學生總人數=%{x}<br>教師總人數=%{y}<br>師生比=%{marker.size}<extra></extra>",
           "hovertext": [
            "新北特殊教育學校",
            "宜蘭特殊教育學校",
            "桃園特殊教育學校",
            "新竹特殊教育學校",
            "臺北市立啟聰學校",
            "臺北市立啟智學校",
            "臺北市立啟明學校",
            "文山特殊教育學校",
            "基隆特殊教育學校"
           ],
           "ids": [
            "新北特殊教育學校",
            "宜蘭特殊教育學校",
            "桃園特殊教育學校",
            "新竹特殊教育學校",
            "臺北市立啟聰學校",
            "臺北市立啟智學校",
            "臺北市立啟明學校",
            "文山特殊教育學校",
            "基隆特殊教育學校"
           ],
           "legendgroup": "北",
           "marker": {
            "color": "#636efa",
            "size": [
             3.1494252873563218,
             2.7419354838709675,
             3.6636363636363636,
             3.925925925925926,
             1.4941176470588236,
             2.3461538461538463,
             1.5932203389830508,
             1.3597122302158273,
             3.896551724137931
            ],
            "sizemode": "area",
            "sizeref": 0.005522875816993464,
            "symbol": "circle"
           },
           "mode": "markers",
           "name": "北",
           "orientation": "v",
           "showlegend": true,
           "type": "scatter",
           "x": [
            274,
            85,
            403,
            212,
            127,
            244,
            94,
            189,
            113
           ],
           "xaxis": "x",
           "y": [
            87,
            31,
            110,
            54,
            85,
            104,
            59,
            139,
            29
           ],
           "yaxis": "y"
          },
          {
           "hovertemplate": "<b>%{hovertext}</b><br><br>區域=中<br>year=2019<br>學生總人數=%{x}<br>教師總人數=%{y}<br>師生比=%{marker.size}<extra></extra>",
           "hovertext": [
            "惠明盲校",
            "臺中啟明學校",
            "和美實驗學校",
            "彰化特殊教育學校",
            "南投特殊教育學校",
            "臺中特殊教育學校",
            "臺中啟聰學校",
            "雲林特殊教育學校",
            "苗栗特殊教育學校"
           ],
           "ids": [
            "惠明盲校",
            "臺中啟明學校",
            "和美實驗學校",
            "彰化特殊教育學校",
            "南投特殊教育學校",
            "臺中特殊教育學校",
            "臺中啟聰學校",
            "雲林特殊教育學校",
            "苗栗特殊教育學校"
           ],
           "legendgroup": "中",
           "marker": {
            "color": "#EF553B",
            "size": [
             4.916666666666667,
             2.864864864864865,
             2.3260869565217392,
             3.32183908045977,
             3.4722222222222223,
             3.962962962962963,
             2.5402298850574714,
             3.62,
             3.027027027027027
            ],
            "sizemode": "area",
            "sizeref": 0.005522875816993464,
            "symbol": "circle"
           },
           "mode": "markers",
           "name": "中",
           "orientation": "v",
           "showlegend": true,
           "type": "scatter",
           "x": [
            59,
            106,
            214,
            289,
            125,
            321,
            221,
            181,
            112
           ],
           "xaxis": "x",
           "y": [
            12,
            37,
            92,
            87,
            36,
            81,
            87,
            50,
            37
           ],
           "yaxis": "y"
          },
          {
           "hovertemplate": "<b>%{hovertext}</b><br><br>區域=南<br>year=2019<br>學生總人數=%{x}<br>教師總人數=%{y}<br>師生比=%{marker.size}<extra></extra>",
           "hovertext": [
            "臺南大學附屬啟聰學校",
            "仁武特殊教育學校",
            "屏東特殊教育學校",
            "嘉義特殊教育學校",
            "臺南啟智學校",
            "楠梓特殊學校",
            "成功特殊教育學校",
            "高雄特殊教育學校"
           ],
           "ids": [
            "臺南大學附屬啟聰學校",
            "仁武特殊教育學校",
            "屏東特殊教育學校",
            "嘉義特殊教育學校",
            "臺南啟智學校",
            "楠梓特殊學校",
            "成功特殊教育學校",
            "高雄特殊教育學校"
           ],
           "legendgroup": "南",
           "marker": {
            "color": "#00cc96",
            "size": [
             2.2205882352941178,
             3.3947368421052633,
             4.970588235294118,
             3.315068493150685,
             3.4935064935064934,
             2,
             2.86046511627907,
             3.2448979591836733
            ],
            "sizemode": "area",
            "sizeref": 0.005522875816993464,
            "symbol": "circle"
           },
           "mode": "markers",
           "name": "南",
           "orientation": "v",
           "showlegend": true,
           "type": "scatter",
           "x": [
            151,
            129,
            169,
            242,
            269,
            160,
            123,
            159
           ],
           "xaxis": "x",
           "y": [
            68,
            38,
            34,
            73,
            77,
            80,
            43,
            49
           ],
           "yaxis": "y"
          },
          {
           "hovertemplate": "<b>%{hovertext}</b><br><br>區域=東<br>year=2019<br>學生總人數=%{x}<br>教師總人數=%{y}<br>師生比=%{marker.size}<extra></extra>",
           "hovertext": [
            "臺東大學附屬特教學校",
            "花蓮特殊教育學校"
           ],
           "ids": [
            "臺東大學附屬特教學校",
            "花蓮特殊教育學校"
           ],
           "legendgroup": "東",
           "marker": {
            "color": "#ab63fa",
            "size": [
             3.59375,
             3
            ],
            "sizemode": "area",
            "sizeref": 0.005522875816993464,
            "symbol": "circle"
           },
           "mode": "markers",
           "name": "東",
           "orientation": "v",
           "showlegend": true,
           "type": "scatter",
           "x": [
            115,
            129
           ],
           "xaxis": "x",
           "y": [
            32,
            43
           ],
           "yaxis": "y"
          }
         ],
         "name": "2019"
        },
        {
         "data": [
          {
           "hovertemplate": "<b>%{hovertext}</b><br><br>區域=北<br>year=2018<br>學生總人數=%{x}<br>教師總人數=%{y}<br>師生比=%{marker.size}<extra></extra>",
           "hovertext": [
            "新北特殊教育學校",
            "宜蘭特殊教育學校",
            "桃園特殊教育學校",
            "新竹特殊教育學校",
            "臺北市立啟聰學校",
            "臺北市立啟智學校",
            "臺北市立啟明學校",
            "文山特殊教育學校",
            "基隆特殊教育學校"
           ],
           "ids": [
            "新北特殊教育學校",
            "宜蘭特殊教育學校",
            "桃園特殊教育學校",
            "新竹特殊教育學校",
            "臺北市立啟聰學校",
            "臺北市立啟智學校",
            "臺北市立啟明學校",
            "文山特殊教育學校",
            "基隆特殊教育學校"
           ],
           "legendgroup": "北",
           "marker": {
            "color": "#636efa",
            "size": [
             3.8780487804878048,
             3.2903225806451615,
             3.809090909090909,
             4.155172413793103,
             1.7564102564102564,
             2.836734693877551,
             1.6774193548387097,
             1.5909090909090908,
             3.6774193548387095
            ],
            "sizemode": "area",
            "sizeref": 0.005522875816993464,
            "symbol": "circle"
           },
           "mode": "markers",
           "name": "北",
           "orientation": "v",
           "showlegend": true,
           "type": "scatter",
           "x": [
            318,
            102,
            419,
            241,
            137,
            278,
            104,
            210,
            114
           ],
           "xaxis": "x",
           "y": [
            82,
            31,
            110,
            58,
            78,
            98,
            62,
            132,
            31
           ],
           "yaxis": "y"
          },
          {
           "hovertemplate": "<b>%{hovertext}</b><br><br>區域=中<br>year=2018<br>學生總人數=%{x}<br>教師總人數=%{y}<br>師生比=%{marker.size}<extra></extra>",
           "hovertext": [
            "惠明盲校",
            "臺中啟明學校",
            "和美實驗學校",
            "彰化特殊教育學校",
            "南投特殊教育學校",
            "臺中特殊教育學校",
            "臺中啟聰學校",
            "雲林特殊教育學校",
            "苗栗特殊教育學校"
           ],
           "ids": [
            "惠明盲校",
            "臺中啟明學校",
            "和美實驗學校",
            "彰化特殊教育學校",
            "南投特殊教育學校",
            "臺中特殊教育學校",
            "臺中啟聰學校",
            "雲林特殊教育學校",
            "苗栗特殊教育學校"
           ],
           "legendgroup": "中",
           "marker": {
            "color": "#EF553B",
            "size": [
             4.2,
             3,
             3.0821917808219177,
             3.1956521739130435,
             3.72972972972973,
             4.67948717948718,
             2.75531914893617,
             3.8627450980392157,
             3.1052631578947367
            ],
            "sizemode": "area",
            "sizeref": 0.005522875816993464,
            "symbol": "circle"
           },
           "mode": "markers",
           "name": "中",
           "orientation": "v",
           "showlegend": true,
           "type": "scatter",
           "x": [
            63,
            117,
            225,
            294,
            138,
            365,
            259,
            197,
            118
           ],
           "xaxis": "x",
           "y": [
            15,
            39,
            73,
            92,
            37,
            78,
            94,
            51,
            38
           ],
           "yaxis": "y"
          },
          {
           "hovertemplate": "<b>%{hovertext}</b><br><br>區域=南<br>year=2018<br>學生總人數=%{x}<br>教師總人數=%{y}<br>師生比=%{marker.size}<extra></extra>",
           "hovertext": [
            "臺南大學附屬啟聰學校",
            "仁武特殊教育學校",
            "屏東特殊教育學校",
            "嘉義特殊教育學校",
            "臺南啟智學校",
            "楠梓特殊學校",
            "成功特殊教育學校",
            "高雄特殊教育學校"
           ],
           "ids": [
            "臺南大學附屬啟聰學校",
            "仁武特殊教育學校",
            "屏東特殊教育學校",
            "嘉義特殊教育學校",
            "臺南啟智學校",
            "楠梓特殊學校",
            "成功特殊教育學校",
            "高雄特殊教育學校"
           ],
           "legendgroup": "南",
           "marker": {
            "color": "#00cc96",
            "size": [
             2.7540983606557377,
             3.5945945945945947,
             4.675675675675675,
             3.493827160493827,
             3.2325581395348837,
             2.3,
             2.574468085106383,
             3.358490566037736
            ],
            "sizemode": "area",
            "sizeref": 0.005522875816993464,
            "symbol": "circle"
           },
           "mode": "markers",
           "name": "南",
           "orientation": "v",
           "showlegend": true,
           "type": "scatter",
           "x": [
            168,
            133,
            173,
            283,
            278,
            184,
            121,
            178
           ],
           "xaxis": "x",
           "y": [
            61,
            37,
            37,
            81,
            86,
            80,
            47,
            53
           ],
           "yaxis": "y"
          },
          {
           "hovertemplate": "<b>%{hovertext}</b><br><br>區域=東<br>year=2018<br>學生總人數=%{x}<br>教師總人數=%{y}<br>師生比=%{marker.size}<extra></extra>",
           "hovertext": [
            "臺東大學附屬特教學校",
            "花蓮特殊教育學校"
           ],
           "ids": [
            "臺東大學附屬特教學校",
            "花蓮特殊教育學校"
           ],
           "legendgroup": "東",
           "marker": {
            "color": "#ab63fa",
            "size": [
             3.7586206896551726,
             3.1777777777777776
            ],
            "sizemode": "area",
            "sizeref": 0.005522875816993464,
            "symbol": "circle"
           },
           "mode": "markers",
           "name": "東",
           "orientation": "v",
           "showlegend": true,
           "type": "scatter",
           "x": [
            109,
            143
           ],
           "xaxis": "x",
           "y": [
            29,
            45
           ],
           "yaxis": "y"
          }
         ],
         "name": "2018"
        }
       ],
       "layout": {
        "legend": {
         "itemsizing": "constant",
         "title": {
          "text": "區域"
         },
         "tracegroupgap": 0
        },
        "margin": {
         "t": 60
        },
        "sliders": [
         {
          "active": 0,
          "currentvalue": {
           "prefix": "year="
          },
          "len": 0.9,
          "pad": {
           "b": 10,
           "t": 60
          },
          "steps": [
           {
            "args": [
             [
              "2021"
             ],
             {
              "frame": {
               "duration": 0,
               "redraw": false
              },
              "fromcurrent": true,
              "mode": "immediate",
              "transition": {
               "duration": 0,
               "easing": "linear"
              }
             }
            ],
            "label": "2021",
            "method": "animate"
           },
           {
            "args": [
             [
              "2020"
             ],
             {
              "frame": {
               "duration": 0,
               "redraw": false
              },
              "fromcurrent": true,
              "mode": "immediate",
              "transition": {
               "duration": 0,
               "easing": "linear"
              }
             }
            ],
            "label": "2020",
            "method": "animate"
           },
           {
            "args": [
             [
              "2019"
             ],
             {
              "frame": {
               "duration": 0,
               "redraw": false
              },
              "fromcurrent": true,
              "mode": "immediate",
              "transition": {
               "duration": 0,
               "easing": "linear"
              }
             }
            ],
            "label": "2019",
            "method": "animate"
           },
           {
            "args": [
             [
              "2018"
             ],
             {
              "frame": {
               "duration": 0,
               "redraw": false
              },
              "fromcurrent": true,
              "mode": "immediate",
              "transition": {
               "duration": 0,
               "easing": "linear"
              }
             }
            ],
            "label": "2018",
            "method": "animate"
           }
          ],
          "x": 0.1,
          "xanchor": "left",
          "y": 0,
          "yanchor": "top"
         }
        ],
        "template": {
         "data": {
          "bar": [
           {
            "error_x": {
             "color": "#2a3f5f"
            },
            "error_y": {
             "color": "#2a3f5f"
            },
            "marker": {
             "line": {
              "color": "#E5ECF6",
              "width": 0.5
             },
             "pattern": {
              "fillmode": "overlay",
              "size": 10,
              "solidity": 0.2
             }
            },
            "type": "bar"
           }
          ],
          "barpolar": [
           {
            "marker": {
             "line": {
              "color": "#E5ECF6",
              "width": 0.5
             },
             "pattern": {
              "fillmode": "overlay",
              "size": 10,
              "solidity": 0.2
             }
            },
            "type": "barpolar"
           }
          ],
          "carpet": [
           {
            "aaxis": {
             "endlinecolor": "#2a3f5f",
             "gridcolor": "white",
             "linecolor": "white",
             "minorgridcolor": "white",
             "startlinecolor": "#2a3f5f"
            },
            "baxis": {
             "endlinecolor": "#2a3f5f",
             "gridcolor": "white",
             "linecolor": "white",
             "minorgridcolor": "white",
             "startlinecolor": "#2a3f5f"
            },
            "type": "carpet"
           }
          ],
          "choropleth": [
           {
            "colorbar": {
             "outlinewidth": 0,
             "ticks": ""
            },
            "type": "choropleth"
           }
          ],
          "contour": [
           {
            "colorbar": {
             "outlinewidth": 0,
             "ticks": ""
            },
            "colorscale": [
             [
              0,
              "#0d0887"
             ],
             [
              0.1111111111111111,
              "#46039f"
             ],
             [
              0.2222222222222222,
              "#7201a8"
             ],
             [
              0.3333333333333333,
              "#9c179e"
             ],
             [
              0.4444444444444444,
              "#bd3786"
             ],
             [
              0.5555555555555556,
              "#d8576b"
             ],
             [
              0.6666666666666666,
              "#ed7953"
             ],
             [
              0.7777777777777778,
              "#fb9f3a"
             ],
             [
              0.8888888888888888,
              "#fdca26"
             ],
             [
              1,
              "#f0f921"
             ]
            ],
            "type": "contour"
           }
          ],
          "contourcarpet": [
           {
            "colorbar": {
             "outlinewidth": 0,
             "ticks": ""
            },
            "type": "contourcarpet"
           }
          ],
          "heatmap": [
           {
            "colorbar": {
             "outlinewidth": 0,
             "ticks": ""
            },
            "colorscale": [
             [
              0,
              "#0d0887"
             ],
             [
              0.1111111111111111,
              "#46039f"
             ],
             [
              0.2222222222222222,
              "#7201a8"
             ],
             [
              0.3333333333333333,
              "#9c179e"
             ],
             [
              0.4444444444444444,
              "#bd3786"
             ],
             [
              0.5555555555555556,
              "#d8576b"
             ],
             [
              0.6666666666666666,
              "#ed7953"
             ],
             [
              0.7777777777777778,
              "#fb9f3a"
             ],
             [
              0.8888888888888888,
              "#fdca26"
             ],
             [
              1,
              "#f0f921"
             ]
            ],
            "type": "heatmap"
           }
          ],
          "heatmapgl": [
           {
            "colorbar": {
             "outlinewidth": 0,
             "ticks": ""
            },
            "colorscale": [
             [
              0,
              "#0d0887"
             ],
             [
              0.1111111111111111,
              "#46039f"
             ],
             [
              0.2222222222222222,
              "#7201a8"
             ],
             [
              0.3333333333333333,
              "#9c179e"
             ],
             [
              0.4444444444444444,
              "#bd3786"
             ],
             [
              0.5555555555555556,
              "#d8576b"
             ],
             [
              0.6666666666666666,
              "#ed7953"
             ],
             [
              0.7777777777777778,
              "#fb9f3a"
             ],
             [
              0.8888888888888888,
              "#fdca26"
             ],
             [
              1,
              "#f0f921"
             ]
            ],
            "type": "heatmapgl"
           }
          ],
          "histogram": [
           {
            "marker": {
             "pattern": {
              "fillmode": "overlay",
              "size": 10,
              "solidity": 0.2
             }
            },
            "type": "histogram"
           }
          ],
          "histogram2d": [
           {
            "colorbar": {
             "outlinewidth": 0,
             "ticks": ""
            },
            "colorscale": [
             [
              0,
              "#0d0887"
             ],
             [
              0.1111111111111111,
              "#46039f"
             ],
             [
              0.2222222222222222,
              "#7201a8"
             ],
             [
              0.3333333333333333,
              "#9c179e"
             ],
             [
              0.4444444444444444,
              "#bd3786"
             ],
             [
              0.5555555555555556,
              "#d8576b"
             ],
             [
              0.6666666666666666,
              "#ed7953"
             ],
             [
              0.7777777777777778,
              "#fb9f3a"
             ],
             [
              0.8888888888888888,
              "#fdca26"
             ],
             [
              1,
              "#f0f921"
             ]
            ],
            "type": "histogram2d"
           }
          ],
          "histogram2dcontour": [
           {
            "colorbar": {
             "outlinewidth": 0,
             "ticks": ""
            },
            "colorscale": [
             [
              0,
              "#0d0887"
             ],
             [
              0.1111111111111111,
              "#46039f"
             ],
             [
              0.2222222222222222,
              "#7201a8"
             ],
             [
              0.3333333333333333,
              "#9c179e"
             ],
             [
              0.4444444444444444,
              "#bd3786"
             ],
             [
              0.5555555555555556,
              "#d8576b"
             ],
             [
              0.6666666666666666,
              "#ed7953"
             ],
             [
              0.7777777777777778,
              "#fb9f3a"
             ],
             [
              0.8888888888888888,
              "#fdca26"
             ],
             [
              1,
              "#f0f921"
             ]
            ],
            "type": "histogram2dcontour"
           }
          ],
          "mesh3d": [
           {
            "colorbar": {
             "outlinewidth": 0,
             "ticks": ""
            },
            "type": "mesh3d"
           }
          ],
          "parcoords": [
           {
            "line": {
             "colorbar": {
              "outlinewidth": 0,
              "ticks": ""
             }
            },
            "type": "parcoords"
           }
          ],
          "pie": [
           {
            "automargin": true,
            "type": "pie"
           }
          ],
          "scatter": [
           {
            "fillpattern": {
             "fillmode": "overlay",
             "size": 10,
             "solidity": 0.2
            },
            "type": "scatter"
           }
          ],
          "scatter3d": [
           {
            "line": {
             "colorbar": {
              "outlinewidth": 0,
              "ticks": ""
             }
            },
            "marker": {
             "colorbar": {
              "outlinewidth": 0,
              "ticks": ""
             }
            },
            "type": "scatter3d"
           }
          ],
          "scattercarpet": [
           {
            "marker": {
             "colorbar": {
              "outlinewidth": 0,
              "ticks": ""
             }
            },
            "type": "scattercarpet"
           }
          ],
          "scattergeo": [
           {
            "marker": {
             "colorbar": {
              "outlinewidth": 0,
              "ticks": ""
             }
            },
            "type": "scattergeo"
           }
          ],
          "scattergl": [
           {
            "marker": {
             "colorbar": {
              "outlinewidth": 0,
              "ticks": ""
             }
            },
            "type": "scattergl"
           }
          ],
          "scattermapbox": [
           {
            "marker": {
             "colorbar": {
              "outlinewidth": 0,
              "ticks": ""
             }
            },
            "type": "scattermapbox"
           }
          ],
          "scatterpolar": [
           {
            "marker": {
             "colorbar": {
              "outlinewidth": 0,
              "ticks": ""
             }
            },
            "type": "scatterpolar"
           }
          ],
          "scatterpolargl": [
           {
            "marker": {
             "colorbar": {
              "outlinewidth": 0,
              "ticks": ""
             }
            },
            "type": "scatterpolargl"
           }
          ],
          "scatterternary": [
           {
            "marker": {
             "colorbar": {
              "outlinewidth": 0,
              "ticks": ""
             }
            },
            "type": "scatterternary"
           }
          ],
          "surface": [
           {
            "colorbar": {
             "outlinewidth": 0,
             "ticks": ""
            },
            "colorscale": [
             [
              0,
              "#0d0887"
             ],
             [
              0.1111111111111111,
              "#46039f"
             ],
             [
              0.2222222222222222,
              "#7201a8"
             ],
             [
              0.3333333333333333,
              "#9c179e"
             ],
             [
              0.4444444444444444,
              "#bd3786"
             ],
             [
              0.5555555555555556,
              "#d8576b"
             ],
             [
              0.6666666666666666,
              "#ed7953"
             ],
             [
              0.7777777777777778,
              "#fb9f3a"
             ],
             [
              0.8888888888888888,
              "#fdca26"
             ],
             [
              1,
              "#f0f921"
             ]
            ],
            "type": "surface"
           }
          ],
          "table": [
           {
            "cells": {
             "fill": {
              "color": "#EBF0F8"
             },
             "line": {
              "color": "white"
             }
            },
            "header": {
             "fill": {
              "color": "#C8D4E3"
             },
             "line": {
              "color": "white"
             }
            },
            "type": "table"
           }
          ]
         },
         "layout": {
          "annotationdefaults": {
           "arrowcolor": "#2a3f5f",
           "arrowhead": 0,
           "arrowwidth": 1
          },
          "autotypenumbers": "strict",
          "coloraxis": {
           "colorbar": {
            "outlinewidth": 0,
            "ticks": ""
           }
          },
          "colorscale": {
           "diverging": [
            [
             0,
             "#8e0152"
            ],
            [
             0.1,
             "#c51b7d"
            ],
            [
             0.2,
             "#de77ae"
            ],
            [
             0.3,
             "#f1b6da"
            ],
            [
             0.4,
             "#fde0ef"
            ],
            [
             0.5,
             "#f7f7f7"
            ],
            [
             0.6,
             "#e6f5d0"
            ],
            [
             0.7,
             "#b8e186"
            ],
            [
             0.8,
             "#7fbc41"
            ],
            [
             0.9,
             "#4d9221"
            ],
            [
             1,
             "#276419"
            ]
           ],
           "sequential": [
            [
             0,
             "#0d0887"
            ],
            [
             0.1111111111111111,
             "#46039f"
            ],
            [
             0.2222222222222222,
             "#7201a8"
            ],
            [
             0.3333333333333333,
             "#9c179e"
            ],
            [
             0.4444444444444444,
             "#bd3786"
            ],
            [
             0.5555555555555556,
             "#d8576b"
            ],
            [
             0.6666666666666666,
             "#ed7953"
            ],
            [
             0.7777777777777778,
             "#fb9f3a"
            ],
            [
             0.8888888888888888,
             "#fdca26"
            ],
            [
             1,
             "#f0f921"
            ]
           ],
           "sequentialminus": [
            [
             0,
             "#0d0887"
            ],
            [
             0.1111111111111111,
             "#46039f"
            ],
            [
             0.2222222222222222,
             "#7201a8"
            ],
            [
             0.3333333333333333,
             "#9c179e"
            ],
            [
             0.4444444444444444,
             "#bd3786"
            ],
            [
             0.5555555555555556,
             "#d8576b"
            ],
            [
             0.6666666666666666,
             "#ed7953"
            ],
            [
             0.7777777777777778,
             "#fb9f3a"
            ],
            [
             0.8888888888888888,
             "#fdca26"
            ],
            [
             1,
             "#f0f921"
            ]
           ]
          },
          "colorway": [
           "#636efa",
           "#EF553B",
           "#00cc96",
           "#ab63fa",
           "#FFA15A",
           "#19d3f3",
           "#FF6692",
           "#B6E880",
           "#FF97FF",
           "#FECB52"
          ],
          "font": {
           "color": "#2a3f5f"
          },
          "geo": {
           "bgcolor": "white",
           "lakecolor": "white",
           "landcolor": "#E5ECF6",
           "showlakes": true,
           "showland": true,
           "subunitcolor": "white"
          },
          "hoverlabel": {
           "align": "left"
          },
          "hovermode": "closest",
          "mapbox": {
           "style": "light"
          },
          "paper_bgcolor": "white",
          "plot_bgcolor": "#E5ECF6",
          "polar": {
           "angularaxis": {
            "gridcolor": "white",
            "linecolor": "white",
            "ticks": ""
           },
           "bgcolor": "#E5ECF6",
           "radialaxis": {
            "gridcolor": "white",
            "linecolor": "white",
            "ticks": ""
           }
          },
          "scene": {
           "xaxis": {
            "backgroundcolor": "#E5ECF6",
            "gridcolor": "white",
            "gridwidth": 2,
            "linecolor": "white",
            "showbackground": true,
            "ticks": "",
            "zerolinecolor": "white"
           },
           "yaxis": {
            "backgroundcolor": "#E5ECF6",
            "gridcolor": "white",
            "gridwidth": 2,
            "linecolor": "white",
            "showbackground": true,
            "ticks": "",
            "zerolinecolor": "white"
           },
           "zaxis": {
            "backgroundcolor": "#E5ECF6",
            "gridcolor": "white",
            "gridwidth": 2,
            "linecolor": "white",
            "showbackground": true,
            "ticks": "",
            "zerolinecolor": "white"
           }
          },
          "shapedefaults": {
           "line": {
            "color": "#2a3f5f"
           }
          },
          "ternary": {
           "aaxis": {
            "gridcolor": "white",
            "linecolor": "white",
            "ticks": ""
           },
           "baxis": {
            "gridcolor": "white",
            "linecolor": "white",
            "ticks": ""
           },
           "bgcolor": "#E5ECF6",
           "caxis": {
            "gridcolor": "white",
            "linecolor": "white",
            "ticks": ""
           }
          },
          "title": {
           "x": 0.05
          },
          "xaxis": {
           "automargin": true,
           "gridcolor": "white",
           "linecolor": "white",
           "ticks": "",
           "title": {
            "standoff": 15
           },
           "zerolinecolor": "white",
           "zerolinewidth": 2
          },
          "yaxis": {
           "automargin": true,
           "gridcolor": "white",
           "linecolor": "white",
           "ticks": "",
           "title": {
            "standoff": 15
           },
           "zerolinecolor": "white",
           "zerolinewidth": 2
          }
         }
        },
        "updatemenus": [
         {
          "buttons": [
           {
            "args": [
             null,
             {
              "frame": {
               "duration": 500,
               "redraw": false
              },
              "fromcurrent": true,
              "mode": "immediate",
              "transition": {
               "duration": 500,
               "easing": "linear"
              }
             }
            ],
            "label": "&#9654;",
            "method": "animate"
           },
           {
            "args": [
             [
              null
             ],
             {
              "frame": {
               "duration": 0,
               "redraw": false
              },
              "fromcurrent": true,
              "mode": "immediate",
              "transition": {
               "duration": 0,
               "easing": "linear"
              }
             }
            ],
            "label": "&#9724;",
            "method": "animate"
           }
          ],
          "direction": "left",
          "pad": {
           "r": 10,
           "t": 70
          },
          "showactive": false,
          "type": "buttons",
          "x": 0.1,
          "xanchor": "right",
          "y": 0,
          "yanchor": "top"
         }
        ],
        "xaxis": {
         "anchor": "y",
         "domain": [
          0,
          1
         ],
         "title": {
          "text": "學生總人數"
         },
         "type": "log"
        },
        "yaxis": {
         "anchor": "x",
         "domain": [
          0,
          1
         ],
         "title": {
          "text": "教師總人數"
         }
        }
       }
      },
      "text/html": [
       "<div>                            <div id=\"82e57b21-02ba-4d38-8f69-54a4f9b2bbdc\" class=\"plotly-graph-div\" style=\"height:525px; width:100%;\"></div>            <script type=\"text/javascript\">                require([\"plotly\"], function(Plotly) {                    window.PLOTLYENV=window.PLOTLYENV || {};                                    if (document.getElementById(\"82e57b21-02ba-4d38-8f69-54a4f9b2bbdc\")) {                    Plotly.newPlot(                        \"82e57b21-02ba-4d38-8f69-54a4f9b2bbdc\",                        [{\"hovertemplate\":\"<b>%{hovertext}</b><br><br>\\u5340\\u57df=\\u5317<br>year=2021<br>\\u5b78\\u751f\\u7e3d\\u4eba\\u6578=%{x}<br>\\u6559\\u5e2b\\u7e3d\\u4eba\\u6578=%{y}<br>\\u5e2b\\u751f\\u6bd4=%{marker.size}<extra></extra>\",\"hovertext\":[\"\\u65b0\\u5317\\u7279\\u6b8a\\u6559\\u80b2\\u5b78\\u6821\",\"\\u5b9c\\u862d\\u7279\\u6b8a\\u6559\\u80b2\\u5b78\\u6821\",\"\\u6843\\u5712\\u7279\\u6b8a\\u6559\\u80b2\\u5b78\\u6821\",\"\\u65b0\\u7af9\\u7279\\u6b8a\\u6559\\u80b2\\u5b78\\u6821\",\"\\u81fa\\u5317\\u5e02\\u7acb\\u555f\\u8070\\u5b78\\u6821\",\"\\u81fa\\u5317\\u7279\\u6b8a\\u6559\\u80b2\\u5b78\\u6821\",\"\\u81fa\\u5317\\u5e02\\u7acb\\u555f\\u660e\\u5b78\\u6821\",\"\\u6587\\u5c71\\u7279\\u6b8a\\u6559\\u80b2\\u5b78\\u6821\",\"\\u57fa\\u9686\\u7279\\u6b8a\\u6559\\u80b2\\u5b78\\u6821\"],\"ids\":[\"\\u65b0\\u5317\\u7279\\u6b8a\\u6559\\u80b2\\u5b78\\u6821\",\"\\u5b9c\\u862d\\u7279\\u6b8a\\u6559\\u80b2\\u5b78\\u6821\",\"\\u6843\\u5712\\u7279\\u6b8a\\u6559\\u80b2\\u5b78\\u6821\",\"\\u65b0\\u7af9\\u7279\\u6b8a\\u6559\\u80b2\\u5b78\\u6821\",\"\\u81fa\\u5317\\u5e02\\u7acb\\u555f\\u8070\\u5b78\\u6821\",\"\\u81fa\\u5317\\u7279\\u6b8a\\u6559\\u80b2\\u5b78\\u6821\",\"\\u81fa\\u5317\\u5e02\\u7acb\\u555f\\u660e\\u5b78\\u6821\",\"\\u6587\\u5c71\\u7279\\u6b8a\\u6559\\u80b2\\u5b78\\u6821\",\"\\u57fa\\u9686\\u7279\\u6b8a\\u6559\\u80b2\\u5b78\\u6821\"],\"legendgroup\":\"\\u5317\",\"marker\":{\"color\":\"#636efa\",\"size\":[2.9770114942528734,2.757575757575758,3.349056603773585,3.5272727272727273,1.5058823529411764,2.32183908045977,1.3620689655172413,1.2836879432624113,3.3870967741935485],\"sizemode\":\"area\",\"sizeref\":0.005522875816993464,\"symbol\":\"circle\"},\"mode\":\"markers\",\"name\":\"\\u5317\",\"orientation\":\"v\",\"showlegend\":true,\"x\":[259,91,355,194,128,202,79,181,105],\"xaxis\":\"x\",\"y\":[87,33,106,55,85,87,58,141,31],\"yaxis\":\"y\",\"type\":\"scatter\"},{\"hovertemplate\":\"<b>%{hovertext}</b><br><br>\\u5340\\u57df=\\u4e2d<br>year=2021<br>\\u5b78\\u751f\\u7e3d\\u4eba\\u6578=%{x}<br>\\u6559\\u5e2b\\u7e3d\\u4eba\\u6578=%{y}<br>\\u5e2b\\u751f\\u6bd4=%{marker.size}<extra></extra>\",\"hovertext\":[\"\\u60e0\\u660e\\u76f2\\u6821\",\"\\u81fa\\u4e2d\\u555f\\u660e\\u5b78\\u6821\",\"\\u548c\\u7f8e\\u5be6\\u9a57\\u5b78\\u6821\",\"\\u5f70\\u5316\\u7279\\u6b8a\\u6559\\u80b2\\u5b78\\u6821\",\"\\u5357\\u6295\\u7279\\u6b8a\\u6559\\u80b2\\u5b78\\u6821\",\"\\u81fa\\u4e2d\\u7279\\u6b8a\\u6559\\u80b2\\u5b78\\u6821\",\"\\u81fa\\u4e2d\\u555f\\u8070\\u5b78\\u6821\",\"\\u96f2\\u6797\\u7279\\u6b8a\\u6559\\u80b2\\u5b78\\u6821\",\"\\u82d7\\u6817\\u7279\\u6b8a\\u6559\\u80b2\\u5b78\\u6821\"],\"ids\":[\"\\u60e0\\u660e\\u76f2\\u6821\",\"\\u81fa\\u4e2d\\u555f\\u660e\\u5b78\\u6821\",\"\\u548c\\u7f8e\\u5be6\\u9a57\\u5b78\\u6821\",\"\\u5f70\\u5316\\u7279\\u6b8a\\u6559\\u80b2\\u5b78\\u6821\",\"\\u5357\\u6295\\u7279\\u6b8a\\u6559\\u80b2\\u5b78\\u6821\",\"\\u81fa\\u4e2d\\u7279\\u6b8a\\u6559\\u80b2\\u5b78\\u6821\",\"\\u81fa\\u4e2d\\u555f\\u8070\\u5b78\\u6821\",\"\\u96f2\\u6797\\u7279\\u6b8a\\u6559\\u80b2\\u5b78\\u6821\",\"\\u82d7\\u6817\\u7279\\u6b8a\\u6559\\u80b2\\u5b78\\u6821\"],\"legendgroup\":\"\\u4e2d\",\"marker\":{\"color\":\"#EF553B\",\"size\":[3.5625,2.35,2.5268817204301075,2.934065934065934,3.257142857142857,3.433734939759036,2.548780487804878,3.5,2.5609756097560976],\"sizemode\":\"area\",\"sizeref\":0.005522875816993464,\"symbol\":\"circle\"},\"mode\":\"markers\",\"name\":\"\\u4e2d\",\"orientation\":\"v\",\"showlegend\":true,\"x\":[57,94,235,267,114,285,209,182,105],\"xaxis\":\"x\",\"y\":[16,40,93,91,35,83,82,52,41],\"yaxis\":\"y\",\"type\":\"scatter\"},{\"hovertemplate\":\"<b>%{hovertext}</b><br><br>\\u5340\\u57df=\\u5357<br>year=2021<br>\\u5b78\\u751f\\u7e3d\\u4eba\\u6578=%{x}<br>\\u6559\\u5e2b\\u7e3d\\u4eba\\u6578=%{y}<br>\\u5e2b\\u751f\\u6bd4=%{marker.size}<extra></extra>\",\"hovertext\":[\"\\u81fa\\u5357\\u5927\\u5b78\\u9644\\u5c6c\\u555f\\u8070\\u5b78\\u6821\",\"\\u4ec1\\u6b66\\u7279\\u6b8a\\u6559\\u80b2\\u5b78\\u6821\",\"\\u5c4f\\u6771\\u7279\\u6b8a\\u6559\\u80b2\\u5b78\\u6821\",\"\\u5609\\u7fa9\\u7279\\u6b8a\\u6559\\u80b2\\u5b78\\u6821\",\"\\u81fa\\u5357\\u7279\\u6b8a\\u6559\\u80b2\\u5b78\\u6821\",\"\\u6960\\u6893\\u7279\\u6b8a\\u5b78\\u6821\",\"\\u6210\\u529f\\u7279\\u6b8a\\u6559\\u80b2\\u5b78\\u6821\",\"\\u9ad8\\u96c4\\u7279\\u6b8a\\u6559\\u80b2\\u5b78\\u6821\"],\"ids\":[\"\\u81fa\\u5357\\u5927\\u5b78\\u9644\\u5c6c\\u555f\\u8070\\u5b78\\u6821\",\"\\u4ec1\\u6b66\\u7279\\u6b8a\\u6559\\u80b2\\u5b78\\u6821\",\"\\u5c4f\\u6771\\u7279\\u6b8a\\u6559\\u80b2\\u5b78\\u6821\",\"\\u5609\\u7fa9\\u7279\\u6b8a\\u6559\\u80b2\\u5b78\\u6821\",\"\\u81fa\\u5357\\u7279\\u6b8a\\u6559\\u80b2\\u5b78\\u6821\",\"\\u6960\\u6893\\u7279\\u6b8a\\u5b78\\u6821\",\"\\u6210\\u529f\\u7279\\u6b8a\\u6559\\u80b2\\u5b78\\u6821\",\"\\u9ad8\\u96c4\\u7279\\u6b8a\\u6559\\u80b2\\u5b78\\u6821\"],\"legendgroup\":\"\\u5357\",\"marker\":{\"color\":\"#00cc96\",\"size\":[2.5357142857142856,2.642857142857143,4.9375,2.971014492753623,3.3013698630136985,1.9375,3.175,2.7058823529411766],\"sizemode\":\"area\",\"sizeref\":0.005522875816993464,\"symbol\":\"circle\"},\"mode\":\"markers\",\"name\":\"\\u5357\",\"orientation\":\"v\",\"showlegend\":true,\"x\":[142,111,158,205,241,124,127,138],\"xaxis\":\"x\",\"y\":[56,42,32,69,73,64,40,51],\"yaxis\":\"y\",\"type\":\"scatter\"},{\"hovertemplate\":\"<b>%{hovertext}</b><br><br>\\u5340\\u57df=\\u6771<br>year=2021<br>\\u5b78\\u751f\\u7e3d\\u4eba\\u6578=%{x}<br>\\u6559\\u5e2b\\u7e3d\\u4eba\\u6578=%{y}<br>\\u5e2b\\u751f\\u6bd4=%{marker.size}<extra></extra>\",\"hovertext\":[\"\\u81fa\\u6771\\u5927\\u5b78\\u9644\\u5c6c\\u7279\\u6559\\u5b78\\u6821\",\"\\u82b1\\u84ee\\u7279\\u6b8a\\u6559\\u80b2\\u5b78\\u6821\"],\"ids\":[\"\\u81fa\\u6771\\u5927\\u5b78\\u9644\\u5c6c\\u7279\\u6559\\u5b78\\u6821\",\"\\u82b1\\u84ee\\u7279\\u6b8a\\u6559\\u80b2\\u5b78\\u6821\"],\"legendgroup\":\"\\u6771\",\"marker\":{\"color\":\"#ab63fa\",\"size\":[3.2903225806451615,2.6666666666666665],\"sizemode\":\"area\",\"sizeref\":0.005522875816993464,\"symbol\":\"circle\"},\"mode\":\"markers\",\"name\":\"\\u6771\",\"orientation\":\"v\",\"showlegend\":true,\"x\":[102,104],\"xaxis\":\"x\",\"y\":[31,39],\"yaxis\":\"y\",\"type\":\"scatter\"}],                        {\"template\":{\"data\":{\"histogram2dcontour\":[{\"type\":\"histogram2dcontour\",\"colorbar\":{\"outlinewidth\":0,\"ticks\":\"\"},\"colorscale\":[[0.0,\"#0d0887\"],[0.1111111111111111,\"#46039f\"],[0.2222222222222222,\"#7201a8\"],[0.3333333333333333,\"#9c179e\"],[0.4444444444444444,\"#bd3786\"],[0.5555555555555556,\"#d8576b\"],[0.6666666666666666,\"#ed7953\"],[0.7777777777777778,\"#fb9f3a\"],[0.8888888888888888,\"#fdca26\"],[1.0,\"#f0f921\"]]}],\"choropleth\":[{\"type\":\"choropleth\",\"colorbar\":{\"outlinewidth\":0,\"ticks\":\"\"}}],\"histogram2d\":[{\"type\":\"histogram2d\",\"colorbar\":{\"outlinewidth\":0,\"ticks\":\"\"},\"colorscale\":[[0.0,\"#0d0887\"],[0.1111111111111111,\"#46039f\"],[0.2222222222222222,\"#7201a8\"],[0.3333333333333333,\"#9c179e\"],[0.4444444444444444,\"#bd3786\"],[0.5555555555555556,\"#d8576b\"],[0.6666666666666666,\"#ed7953\"],[0.7777777777777778,\"#fb9f3a\"],[0.8888888888888888,\"#fdca26\"],[1.0,\"#f0f921\"]]}],\"heatmap\":[{\"type\":\"heatmap\",\"colorbar\":{\"outlinewidth\":0,\"ticks\":\"\"},\"colorscale\":[[0.0,\"#0d0887\"],[0.1111111111111111,\"#46039f\"],[0.2222222222222222,\"#7201a8\"],[0.3333333333333333,\"#9c179e\"],[0.4444444444444444,\"#bd3786\"],[0.5555555555555556,\"#d8576b\"],[0.6666666666666666,\"#ed7953\"],[0.7777777777777778,\"#fb9f3a\"],[0.8888888888888888,\"#fdca26\"],[1.0,\"#f0f921\"]]}],\"heatmapgl\":[{\"type\":\"heatmapgl\",\"colorbar\":{\"outlinewidth\":0,\"ticks\":\"\"},\"colorscale\":[[0.0,\"#0d0887\"],[0.1111111111111111,\"#46039f\"],[0.2222222222222222,\"#7201a8\"],[0.3333333333333333,\"#9c179e\"],[0.4444444444444444,\"#bd3786\"],[0.5555555555555556,\"#d8576b\"],[0.6666666666666666,\"#ed7953\"],[0.7777777777777778,\"#fb9f3a\"],[0.8888888888888888,\"#fdca26\"],[1.0,\"#f0f921\"]]}],\"contourcarpet\":[{\"type\":\"contourcarpet\",\"colorbar\":{\"outlinewidth\":0,\"ticks\":\"\"}}],\"contour\":[{\"type\":\"contour\",\"colorbar\":{\"outlinewidth\":0,\"ticks\":\"\"},\"colorscale\":[[0.0,\"#0d0887\"],[0.1111111111111111,\"#46039f\"],[0.2222222222222222,\"#7201a8\"],[0.3333333333333333,\"#9c179e\"],[0.4444444444444444,\"#bd3786\"],[0.5555555555555556,\"#d8576b\"],[0.6666666666666666,\"#ed7953\"],[0.7777777777777778,\"#fb9f3a\"],[0.8888888888888888,\"#fdca26\"],[1.0,\"#f0f921\"]]}],\"surface\":[{\"type\":\"surface\",\"colorbar\":{\"outlinewidth\":0,\"ticks\":\"\"},\"colorscale\":[[0.0,\"#0d0887\"],[0.1111111111111111,\"#46039f\"],[0.2222222222222222,\"#7201a8\"],[0.3333333333333333,\"#9c179e\"],[0.4444444444444444,\"#bd3786\"],[0.5555555555555556,\"#d8576b\"],[0.6666666666666666,\"#ed7953\"],[0.7777777777777778,\"#fb9f3a\"],[0.8888888888888888,\"#fdca26\"],[1.0,\"#f0f921\"]]}],\"mesh3d\":[{\"type\":\"mesh3d\",\"colorbar\":{\"outlinewidth\":0,\"ticks\":\"\"}}],\"scatter\":[{\"fillpattern\":{\"fillmode\":\"overlay\",\"size\":10,\"solidity\":0.2},\"type\":\"scatter\"}],\"parcoords\":[{\"type\":\"parcoords\",\"line\":{\"colorbar\":{\"outlinewidth\":0,\"ticks\":\"\"}}}],\"scatterpolargl\":[{\"type\":\"scatterpolargl\",\"marker\":{\"colorbar\":{\"outlinewidth\":0,\"ticks\":\"\"}}}],\"bar\":[{\"error_x\":{\"color\":\"#2a3f5f\"},\"error_y\":{\"color\":\"#2a3f5f\"},\"marker\":{\"line\":{\"color\":\"#E5ECF6\",\"width\":0.5},\"pattern\":{\"fillmode\":\"overlay\",\"size\":10,\"solidity\":0.2}},\"type\":\"bar\"}],\"scattergeo\":[{\"type\":\"scattergeo\",\"marker\":{\"colorbar\":{\"outlinewidth\":0,\"ticks\":\"\"}}}],\"scatterpolar\":[{\"type\":\"scatterpolar\",\"marker\":{\"colorbar\":{\"outlinewidth\":0,\"ticks\":\"\"}}}],\"histogram\":[{\"marker\":{\"pattern\":{\"fillmode\":\"overlay\",\"size\":10,\"solidity\":0.2}},\"type\":\"histogram\"}],\"scattergl\":[{\"type\":\"scattergl\",\"marker\":{\"colorbar\":{\"outlinewidth\":0,\"ticks\":\"\"}}}],\"scatter3d\":[{\"type\":\"scatter3d\",\"line\":{\"colorbar\":{\"outlinewidth\":0,\"ticks\":\"\"}},\"marker\":{\"colorbar\":{\"outlinewidth\":0,\"ticks\":\"\"}}}],\"scattermapbox\":[{\"type\":\"scattermapbox\",\"marker\":{\"colorbar\":{\"outlinewidth\":0,\"ticks\":\"\"}}}],\"scatterternary\":[{\"type\":\"scatterternary\",\"marker\":{\"colorbar\":{\"outlinewidth\":0,\"ticks\":\"\"}}}],\"scattercarpet\":[{\"type\":\"scattercarpet\",\"marker\":{\"colorbar\":{\"outlinewidth\":0,\"ticks\":\"\"}}}],\"carpet\":[{\"aaxis\":{\"endlinecolor\":\"#2a3f5f\",\"gridcolor\":\"white\",\"linecolor\":\"white\",\"minorgridcolor\":\"white\",\"startlinecolor\":\"#2a3f5f\"},\"baxis\":{\"endlinecolor\":\"#2a3f5f\",\"gridcolor\":\"white\",\"linecolor\":\"white\",\"minorgridcolor\":\"white\",\"startlinecolor\":\"#2a3f5f\"},\"type\":\"carpet\"}],\"table\":[{\"cells\":{\"fill\":{\"color\":\"#EBF0F8\"},\"line\":{\"color\":\"white\"}},\"header\":{\"fill\":{\"color\":\"#C8D4E3\"},\"line\":{\"color\":\"white\"}},\"type\":\"table\"}],\"barpolar\":[{\"marker\":{\"line\":{\"color\":\"#E5ECF6\",\"width\":0.5},\"pattern\":{\"fillmode\":\"overlay\",\"size\":10,\"solidity\":0.2}},\"type\":\"barpolar\"}],\"pie\":[{\"automargin\":true,\"type\":\"pie\"}]},\"layout\":{\"autotypenumbers\":\"strict\",\"colorway\":[\"#636efa\",\"#EF553B\",\"#00cc96\",\"#ab63fa\",\"#FFA15A\",\"#19d3f3\",\"#FF6692\",\"#B6E880\",\"#FF97FF\",\"#FECB52\"],\"font\":{\"color\":\"#2a3f5f\"},\"hovermode\":\"closest\",\"hoverlabel\":{\"align\":\"left\"},\"paper_bgcolor\":\"white\",\"plot_bgcolor\":\"#E5ECF6\",\"polar\":{\"bgcolor\":\"#E5ECF6\",\"angularaxis\":{\"gridcolor\":\"white\",\"linecolor\":\"white\",\"ticks\":\"\"},\"radialaxis\":{\"gridcolor\":\"white\",\"linecolor\":\"white\",\"ticks\":\"\"}},\"ternary\":{\"bgcolor\":\"#E5ECF6\",\"aaxis\":{\"gridcolor\":\"white\",\"linecolor\":\"white\",\"ticks\":\"\"},\"baxis\":{\"gridcolor\":\"white\",\"linecolor\":\"white\",\"ticks\":\"\"},\"caxis\":{\"gridcolor\":\"white\",\"linecolor\":\"white\",\"ticks\":\"\"}},\"coloraxis\":{\"colorbar\":{\"outlinewidth\":0,\"ticks\":\"\"}},\"colorscale\":{\"sequential\":[[0.0,\"#0d0887\"],[0.1111111111111111,\"#46039f\"],[0.2222222222222222,\"#7201a8\"],[0.3333333333333333,\"#9c179e\"],[0.4444444444444444,\"#bd3786\"],[0.5555555555555556,\"#d8576b\"],[0.6666666666666666,\"#ed7953\"],[0.7777777777777778,\"#fb9f3a\"],[0.8888888888888888,\"#fdca26\"],[1.0,\"#f0f921\"]],\"sequentialminus\":[[0.0,\"#0d0887\"],[0.1111111111111111,\"#46039f\"],[0.2222222222222222,\"#7201a8\"],[0.3333333333333333,\"#9c179e\"],[0.4444444444444444,\"#bd3786\"],[0.5555555555555556,\"#d8576b\"],[0.6666666666666666,\"#ed7953\"],[0.7777777777777778,\"#fb9f3a\"],[0.8888888888888888,\"#fdca26\"],[1.0,\"#f0f921\"]],\"diverging\":[[0,\"#8e0152\"],[0.1,\"#c51b7d\"],[0.2,\"#de77ae\"],[0.3,\"#f1b6da\"],[0.4,\"#fde0ef\"],[0.5,\"#f7f7f7\"],[0.6,\"#e6f5d0\"],[0.7,\"#b8e186\"],[0.8,\"#7fbc41\"],[0.9,\"#4d9221\"],[1,\"#276419\"]]},\"xaxis\":{\"gridcolor\":\"white\",\"linecolor\":\"white\",\"ticks\":\"\",\"title\":{\"standoff\":15},\"zerolinecolor\":\"white\",\"automargin\":true,\"zerolinewidth\":2},\"yaxis\":{\"gridcolor\":\"white\",\"linecolor\":\"white\",\"ticks\":\"\",\"title\":{\"standoff\":15},\"zerolinecolor\":\"white\",\"automargin\":true,\"zerolinewidth\":2},\"scene\":{\"xaxis\":{\"backgroundcolor\":\"#E5ECF6\",\"gridcolor\":\"white\",\"linecolor\":\"white\",\"showbackground\":true,\"ticks\":\"\",\"zerolinecolor\":\"white\",\"gridwidth\":2},\"yaxis\":{\"backgroundcolor\":\"#E5ECF6\",\"gridcolor\":\"white\",\"linecolor\":\"white\",\"showbackground\":true,\"ticks\":\"\",\"zerolinecolor\":\"white\",\"gridwidth\":2},\"zaxis\":{\"backgroundcolor\":\"#E5ECF6\",\"gridcolor\":\"white\",\"linecolor\":\"white\",\"showbackground\":true,\"ticks\":\"\",\"zerolinecolor\":\"white\",\"gridwidth\":2}},\"shapedefaults\":{\"line\":{\"color\":\"#2a3f5f\"}},\"annotationdefaults\":{\"arrowcolor\":\"#2a3f5f\",\"arrowhead\":0,\"arrowwidth\":1},\"geo\":{\"bgcolor\":\"white\",\"landcolor\":\"#E5ECF6\",\"subunitcolor\":\"white\",\"showland\":true,\"showlakes\":true,\"lakecolor\":\"white\"},\"title\":{\"x\":0.05},\"mapbox\":{\"style\":\"light\"}}},\"xaxis\":{\"anchor\":\"y\",\"domain\":[0.0,1.0],\"title\":{\"text\":\"\\u5b78\\u751f\\u7e3d\\u4eba\\u6578\"},\"type\":\"log\"},\"yaxis\":{\"anchor\":\"x\",\"domain\":[0.0,1.0],\"title\":{\"text\":\"\\u6559\\u5e2b\\u7e3d\\u4eba\\u6578\"}},\"legend\":{\"title\":{\"text\":\"\\u5340\\u57df\"},\"tracegroupgap\":0,\"itemsizing\":\"constant\"},\"margin\":{\"t\":60},\"updatemenus\":[{\"buttons\":[{\"args\":[null,{\"frame\":{\"duration\":500,\"redraw\":false},\"mode\":\"immediate\",\"fromcurrent\":true,\"transition\":{\"duration\":500,\"easing\":\"linear\"}}],\"label\":\"&#9654;\",\"method\":\"animate\"},{\"args\":[[null],{\"frame\":{\"duration\":0,\"redraw\":false},\"mode\":\"immediate\",\"fromcurrent\":true,\"transition\":{\"duration\":0,\"easing\":\"linear\"}}],\"label\":\"&#9724;\",\"method\":\"animate\"}],\"direction\":\"left\",\"pad\":{\"r\":10,\"t\":70},\"showactive\":false,\"type\":\"buttons\",\"x\":0.1,\"xanchor\":\"right\",\"y\":0,\"yanchor\":\"top\"}],\"sliders\":[{\"active\":0,\"currentvalue\":{\"prefix\":\"year=\"},\"len\":0.9,\"pad\":{\"b\":10,\"t\":60},\"steps\":[{\"args\":[[\"2021\"],{\"frame\":{\"duration\":0,\"redraw\":false},\"mode\":\"immediate\",\"fromcurrent\":true,\"transition\":{\"duration\":0,\"easing\":\"linear\"}}],\"label\":\"2021\",\"method\":\"animate\"},{\"args\":[[\"2020\"],{\"frame\":{\"duration\":0,\"redraw\":false},\"mode\":\"immediate\",\"fromcurrent\":true,\"transition\":{\"duration\":0,\"easing\":\"linear\"}}],\"label\":\"2020\",\"method\":\"animate\"},{\"args\":[[\"2019\"],{\"frame\":{\"duration\":0,\"redraw\":false},\"mode\":\"immediate\",\"fromcurrent\":true,\"transition\":{\"duration\":0,\"easing\":\"linear\"}}],\"label\":\"2019\",\"method\":\"animate\"},{\"args\":[[\"2018\"],{\"frame\":{\"duration\":0,\"redraw\":false},\"mode\":\"immediate\",\"fromcurrent\":true,\"transition\":{\"duration\":0,\"easing\":\"linear\"}}],\"label\":\"2018\",\"method\":\"animate\"}],\"x\":0.1,\"xanchor\":\"left\",\"y\":0,\"yanchor\":\"top\"}]},                        {\"responsive\": true}                    ).then(function(){\n",
       "                            Plotly.addFrames('82e57b21-02ba-4d38-8f69-54a4f9b2bbdc', [{\"data\":[{\"hovertemplate\":\"<b>%{hovertext}</b><br><br>\\u5340\\u57df=\\u5317<br>year=2021<br>\\u5b78\\u751f\\u7e3d\\u4eba\\u6578=%{x}<br>\\u6559\\u5e2b\\u7e3d\\u4eba\\u6578=%{y}<br>\\u5e2b\\u751f\\u6bd4=%{marker.size}<extra></extra>\",\"hovertext\":[\"\\u65b0\\u5317\\u7279\\u6b8a\\u6559\\u80b2\\u5b78\\u6821\",\"\\u5b9c\\u862d\\u7279\\u6b8a\\u6559\\u80b2\\u5b78\\u6821\",\"\\u6843\\u5712\\u7279\\u6b8a\\u6559\\u80b2\\u5b78\\u6821\",\"\\u65b0\\u7af9\\u7279\\u6b8a\\u6559\\u80b2\\u5b78\\u6821\",\"\\u81fa\\u5317\\u5e02\\u7acb\\u555f\\u8070\\u5b78\\u6821\",\"\\u81fa\\u5317\\u7279\\u6b8a\\u6559\\u80b2\\u5b78\\u6821\",\"\\u81fa\\u5317\\u5e02\\u7acb\\u555f\\u660e\\u5b78\\u6821\",\"\\u6587\\u5c71\\u7279\\u6b8a\\u6559\\u80b2\\u5b78\\u6821\",\"\\u57fa\\u9686\\u7279\\u6b8a\\u6559\\u80b2\\u5b78\\u6821\"],\"ids\":[\"\\u65b0\\u5317\\u7279\\u6b8a\\u6559\\u80b2\\u5b78\\u6821\",\"\\u5b9c\\u862d\\u7279\\u6b8a\\u6559\\u80b2\\u5b78\\u6821\",\"\\u6843\\u5712\\u7279\\u6b8a\\u6559\\u80b2\\u5b78\\u6821\",\"\\u65b0\\u7af9\\u7279\\u6b8a\\u6559\\u80b2\\u5b78\\u6821\",\"\\u81fa\\u5317\\u5e02\\u7acb\\u555f\\u8070\\u5b78\\u6821\",\"\\u81fa\\u5317\\u7279\\u6b8a\\u6559\\u80b2\\u5b78\\u6821\",\"\\u81fa\\u5317\\u5e02\\u7acb\\u555f\\u660e\\u5b78\\u6821\",\"\\u6587\\u5c71\\u7279\\u6b8a\\u6559\\u80b2\\u5b78\\u6821\",\"\\u57fa\\u9686\\u7279\\u6b8a\\u6559\\u80b2\\u5b78\\u6821\"],\"legendgroup\":\"\\u5317\",\"marker\":{\"color\":\"#636efa\",\"size\":[2.9770114942528734,2.757575757575758,3.349056603773585,3.5272727272727273,1.5058823529411764,2.32183908045977,1.3620689655172413,1.2836879432624113,3.3870967741935485],\"sizemode\":\"area\",\"sizeref\":0.005522875816993464,\"symbol\":\"circle\"},\"mode\":\"markers\",\"name\":\"\\u5317\",\"orientation\":\"v\",\"showlegend\":true,\"x\":[259,91,355,194,128,202,79,181,105],\"xaxis\":\"x\",\"y\":[87,33,106,55,85,87,58,141,31],\"yaxis\":\"y\",\"type\":\"scatter\"},{\"hovertemplate\":\"<b>%{hovertext}</b><br><br>\\u5340\\u57df=\\u4e2d<br>year=2021<br>\\u5b78\\u751f\\u7e3d\\u4eba\\u6578=%{x}<br>\\u6559\\u5e2b\\u7e3d\\u4eba\\u6578=%{y}<br>\\u5e2b\\u751f\\u6bd4=%{marker.size}<extra></extra>\",\"hovertext\":[\"\\u60e0\\u660e\\u76f2\\u6821\",\"\\u81fa\\u4e2d\\u555f\\u660e\\u5b78\\u6821\",\"\\u548c\\u7f8e\\u5be6\\u9a57\\u5b78\\u6821\",\"\\u5f70\\u5316\\u7279\\u6b8a\\u6559\\u80b2\\u5b78\\u6821\",\"\\u5357\\u6295\\u7279\\u6b8a\\u6559\\u80b2\\u5b78\\u6821\",\"\\u81fa\\u4e2d\\u7279\\u6b8a\\u6559\\u80b2\\u5b78\\u6821\",\"\\u81fa\\u4e2d\\u555f\\u8070\\u5b78\\u6821\",\"\\u96f2\\u6797\\u7279\\u6b8a\\u6559\\u80b2\\u5b78\\u6821\",\"\\u82d7\\u6817\\u7279\\u6b8a\\u6559\\u80b2\\u5b78\\u6821\"],\"ids\":[\"\\u60e0\\u660e\\u76f2\\u6821\",\"\\u81fa\\u4e2d\\u555f\\u660e\\u5b78\\u6821\",\"\\u548c\\u7f8e\\u5be6\\u9a57\\u5b78\\u6821\",\"\\u5f70\\u5316\\u7279\\u6b8a\\u6559\\u80b2\\u5b78\\u6821\",\"\\u5357\\u6295\\u7279\\u6b8a\\u6559\\u80b2\\u5b78\\u6821\",\"\\u81fa\\u4e2d\\u7279\\u6b8a\\u6559\\u80b2\\u5b78\\u6821\",\"\\u81fa\\u4e2d\\u555f\\u8070\\u5b78\\u6821\",\"\\u96f2\\u6797\\u7279\\u6b8a\\u6559\\u80b2\\u5b78\\u6821\",\"\\u82d7\\u6817\\u7279\\u6b8a\\u6559\\u80b2\\u5b78\\u6821\"],\"legendgroup\":\"\\u4e2d\",\"marker\":{\"color\":\"#EF553B\",\"size\":[3.5625,2.35,2.5268817204301075,2.934065934065934,3.257142857142857,3.433734939759036,2.548780487804878,3.5,2.5609756097560976],\"sizemode\":\"area\",\"sizeref\":0.005522875816993464,\"symbol\":\"circle\"},\"mode\":\"markers\",\"name\":\"\\u4e2d\",\"orientation\":\"v\",\"showlegend\":true,\"x\":[57,94,235,267,114,285,209,182,105],\"xaxis\":\"x\",\"y\":[16,40,93,91,35,83,82,52,41],\"yaxis\":\"y\",\"type\":\"scatter\"},{\"hovertemplate\":\"<b>%{hovertext}</b><br><br>\\u5340\\u57df=\\u5357<br>year=2021<br>\\u5b78\\u751f\\u7e3d\\u4eba\\u6578=%{x}<br>\\u6559\\u5e2b\\u7e3d\\u4eba\\u6578=%{y}<br>\\u5e2b\\u751f\\u6bd4=%{marker.size}<extra></extra>\",\"hovertext\":[\"\\u81fa\\u5357\\u5927\\u5b78\\u9644\\u5c6c\\u555f\\u8070\\u5b78\\u6821\",\"\\u4ec1\\u6b66\\u7279\\u6b8a\\u6559\\u80b2\\u5b78\\u6821\",\"\\u5c4f\\u6771\\u7279\\u6b8a\\u6559\\u80b2\\u5b78\\u6821\",\"\\u5609\\u7fa9\\u7279\\u6b8a\\u6559\\u80b2\\u5b78\\u6821\",\"\\u81fa\\u5357\\u7279\\u6b8a\\u6559\\u80b2\\u5b78\\u6821\",\"\\u6960\\u6893\\u7279\\u6b8a\\u5b78\\u6821\",\"\\u6210\\u529f\\u7279\\u6b8a\\u6559\\u80b2\\u5b78\\u6821\",\"\\u9ad8\\u96c4\\u7279\\u6b8a\\u6559\\u80b2\\u5b78\\u6821\"],\"ids\":[\"\\u81fa\\u5357\\u5927\\u5b78\\u9644\\u5c6c\\u555f\\u8070\\u5b78\\u6821\",\"\\u4ec1\\u6b66\\u7279\\u6b8a\\u6559\\u80b2\\u5b78\\u6821\",\"\\u5c4f\\u6771\\u7279\\u6b8a\\u6559\\u80b2\\u5b78\\u6821\",\"\\u5609\\u7fa9\\u7279\\u6b8a\\u6559\\u80b2\\u5b78\\u6821\",\"\\u81fa\\u5357\\u7279\\u6b8a\\u6559\\u80b2\\u5b78\\u6821\",\"\\u6960\\u6893\\u7279\\u6b8a\\u5b78\\u6821\",\"\\u6210\\u529f\\u7279\\u6b8a\\u6559\\u80b2\\u5b78\\u6821\",\"\\u9ad8\\u96c4\\u7279\\u6b8a\\u6559\\u80b2\\u5b78\\u6821\"],\"legendgroup\":\"\\u5357\",\"marker\":{\"color\":\"#00cc96\",\"size\":[2.5357142857142856,2.642857142857143,4.9375,2.971014492753623,3.3013698630136985,1.9375,3.175,2.7058823529411766],\"sizemode\":\"area\",\"sizeref\":0.005522875816993464,\"symbol\":\"circle\"},\"mode\":\"markers\",\"name\":\"\\u5357\",\"orientation\":\"v\",\"showlegend\":true,\"x\":[142,111,158,205,241,124,127,138],\"xaxis\":\"x\",\"y\":[56,42,32,69,73,64,40,51],\"yaxis\":\"y\",\"type\":\"scatter\"},{\"hovertemplate\":\"<b>%{hovertext}</b><br><br>\\u5340\\u57df=\\u6771<br>year=2021<br>\\u5b78\\u751f\\u7e3d\\u4eba\\u6578=%{x}<br>\\u6559\\u5e2b\\u7e3d\\u4eba\\u6578=%{y}<br>\\u5e2b\\u751f\\u6bd4=%{marker.size}<extra></extra>\",\"hovertext\":[\"\\u81fa\\u6771\\u5927\\u5b78\\u9644\\u5c6c\\u7279\\u6559\\u5b78\\u6821\",\"\\u82b1\\u84ee\\u7279\\u6b8a\\u6559\\u80b2\\u5b78\\u6821\"],\"ids\":[\"\\u81fa\\u6771\\u5927\\u5b78\\u9644\\u5c6c\\u7279\\u6559\\u5b78\\u6821\",\"\\u82b1\\u84ee\\u7279\\u6b8a\\u6559\\u80b2\\u5b78\\u6821\"],\"legendgroup\":\"\\u6771\",\"marker\":{\"color\":\"#ab63fa\",\"size\":[3.2903225806451615,2.6666666666666665],\"sizemode\":\"area\",\"sizeref\":0.005522875816993464,\"symbol\":\"circle\"},\"mode\":\"markers\",\"name\":\"\\u6771\",\"orientation\":\"v\",\"showlegend\":true,\"x\":[102,104],\"xaxis\":\"x\",\"y\":[31,39],\"yaxis\":\"y\",\"type\":\"scatter\"}],\"name\":\"2021\"},{\"data\":[{\"hovertemplate\":\"<b>%{hovertext}</b><br><br>\\u5340\\u57df=\\u5317<br>year=2020<br>\\u5b78\\u751f\\u7e3d\\u4eba\\u6578=%{x}<br>\\u6559\\u5e2b\\u7e3d\\u4eba\\u6578=%{y}<br>\\u5e2b\\u751f\\u6bd4=%{marker.size}<extra></extra>\",\"hovertext\":[\"\\u65b0\\u5317\\u7279\\u6b8a\\u6559\\u80b2\\u5b78\\u6821\",\"\\u5b9c\\u862d\\u7279\\u6b8a\\u6559\\u80b2\\u5b78\\u6821\",\"\\u6843\\u5712\\u7279\\u6b8a\\u6559\\u80b2\\u5b78\\u6821\",\"\\u65b0\\u7af9\\u7279\\u6b8a\\u6559\\u80b2\\u5b78\\u6821\",\"\\u81fa\\u5317\\u5e02\\u7acb\\u555f\\u8070\\u5b78\\u6821\",\"\\u81fa\\u5317\\u7279\\u6b8a\\u6559\\u80b2\\u5b78\\u6821\",\"\\u81fa\\u5317\\u5e02\\u7acb\\u555f\\u660e\\u5b78\\u6821\",\"\\u6587\\u5c71\\u7279\\u6b8a\\u6559\\u80b2\\u5b78\\u6821\",\"\\u57fa\\u9686\\u7279\\u6b8a\\u6559\\u80b2\\u5b78\\u6821\"],\"ids\":[\"\\u65b0\\u5317\\u7279\\u6b8a\\u6559\\u80b2\\u5b78\\u6821\",\"\\u5b9c\\u862d\\u7279\\u6b8a\\u6559\\u80b2\\u5b78\\u6821\",\"\\u6843\\u5712\\u7279\\u6b8a\\u6559\\u80b2\\u5b78\\u6821\",\"\\u65b0\\u7af9\\u7279\\u6b8a\\u6559\\u80b2\\u5b78\\u6821\",\"\\u81fa\\u5317\\u5e02\\u7acb\\u555f\\u8070\\u5b78\\u6821\",\"\\u81fa\\u5317\\u7279\\u6b8a\\u6559\\u80b2\\u5b78\\u6821\",\"\\u81fa\\u5317\\u5e02\\u7acb\\u555f\\u660e\\u5b78\\u6821\",\"\\u6587\\u5c71\\u7279\\u6b8a\\u6559\\u80b2\\u5b78\\u6821\",\"\\u57fa\\u9686\\u7279\\u6b8a\\u6559\\u80b2\\u5b78\\u6821\"],\"legendgroup\":\"\\u5317\",\"marker\":{\"color\":\"#636efa\",\"size\":[2.888888888888889,2.5142857142857142,3.4814814814814814,3.4727272727272727,1.5061728395061729,2.369565217391304,1.5964912280701755,1.348148148148148,3.870967741935484],\"sizemode\":\"area\",\"sizeref\":0.005522875816993464,\"symbol\":\"circle\"},\"mode\":\"markers\",\"name\":\"\\u5317\",\"orientation\":\"v\",\"showlegend\":true,\"x\":[260,88,376,191,122,218,91,182,120],\"xaxis\":\"x\",\"y\":[90,35,108,55,81,92,57,135,31],\"yaxis\":\"y\",\"type\":\"scatter\"},{\"hovertemplate\":\"<b>%{hovertext}</b><br><br>\\u5340\\u57df=\\u4e2d<br>year=2020<br>\\u5b78\\u751f\\u7e3d\\u4eba\\u6578=%{x}<br>\\u6559\\u5e2b\\u7e3d\\u4eba\\u6578=%{y}<br>\\u5e2b\\u751f\\u6bd4=%{marker.size}<extra></extra>\",\"hovertext\":[\"\\u60e0\\u660e\\u76f2\\u6821\",\"\\u81fa\\u4e2d\\u555f\\u660e\\u5b78\\u6821\",\"\\u548c\\u7f8e\\u5be6\\u9a57\\u5b78\\u6821\",\"\\u5f70\\u5316\\u7279\\u6b8a\\u6559\\u80b2\\u5b78\\u6821\",\"\\u5357\\u6295\\u7279\\u6b8a\\u6559\\u80b2\\u5b78\\u6821\",\"\\u81fa\\u4e2d\\u7279\\u6b8a\\u6559\\u80b2\\u5b78\\u6821\",\"\\u81fa\\u4e2d\\u555f\\u8070\\u5b78\\u6821\",\"\\u96f2\\u6797\\u7279\\u6b8a\\u6559\\u80b2\\u5b78\\u6821\",\"\\u82d7\\u6817\\u7279\\u6b8a\\u6559\\u80b2\\u5b78\\u6821\"],\"ids\":[\"\\u60e0\\u660e\\u76f2\\u6821\",\"\\u81fa\\u4e2d\\u555f\\u660e\\u5b78\\u6821\",\"\\u548c\\u7f8e\\u5be6\\u9a57\\u5b78\\u6821\",\"\\u5f70\\u5316\\u7279\\u6b8a\\u6559\\u80b2\\u5b78\\u6821\",\"\\u5357\\u6295\\u7279\\u6b8a\\u6559\\u80b2\\u5b78\\u6821\",\"\\u81fa\\u4e2d\\u7279\\u6b8a\\u6559\\u80b2\\u5b78\\u6821\",\"\\u81fa\\u4e2d\\u555f\\u8070\\u5b78\\u6821\",\"\\u96f2\\u6797\\u7279\\u6b8a\\u6559\\u80b2\\u5b78\\u6821\",\"\\u82d7\\u6817\\u7279\\u6b8a\\u6559\\u80b2\\u5b78\\u6821\"],\"legendgroup\":\"\\u4e2d\",\"marker\":{\"color\":\"#EF553B\",\"size\":[3.7857142857142856,2.5,2.3789473684210525,3.2674418604651163,3.257142857142857,3.8354430379746836,2.548780487804878,3.6538461538461537,2.8421052631578947],\"sizemode\":\"area\",\"sizeref\":0.005522875816993464,\"symbol\":\"circle\"},\"mode\":\"markers\",\"name\":\"\\u4e2d\",\"orientation\":\"v\",\"showlegend\":true,\"x\":[53,95,226,281,114,303,209,190,108],\"xaxis\":\"x\",\"y\":[14,38,95,86,35,79,82,52,38],\"yaxis\":\"y\",\"type\":\"scatter\"},{\"hovertemplate\":\"<b>%{hovertext}</b><br><br>\\u5340\\u57df=\\u5357<br>year=2020<br>\\u5b78\\u751f\\u7e3d\\u4eba\\u6578=%{x}<br>\\u6559\\u5e2b\\u7e3d\\u4eba\\u6578=%{y}<br>\\u5e2b\\u751f\\u6bd4=%{marker.size}<extra></extra>\",\"hovertext\":[\"\\u81fa\\u5357\\u5927\\u5b78\\u9644\\u5c6c\\u555f\\u8070\\u5b78\\u6821\",\"\\u4ec1\\u6b66\\u7279\\u6b8a\\u6559\\u80b2\\u5b78\\u6821\",\"\\u5c4f\\u6771\\u7279\\u6b8a\\u6559\\u80b2\\u5b78\\u6821\",\"\\u5609\\u7fa9\\u7279\\u6b8a\\u6559\\u80b2\\u5b78\\u6821\",\"\\u81fa\\u5357\\u7279\\u6b8a\\u6559\\u80b2\\u5b78\\u6821\",\"\\u6960\\u6893\\u7279\\u6b8a\\u5b78\\u6821\",\"\\u6210\\u529f\\u7279\\u6b8a\\u6559\\u80b2\\u5b78\\u6821\",\"\\u9ad8\\u96c4\\u7279\\u6b8a\\u6559\\u80b2\\u5b78\\u6821\"],\"ids\":[\"\\u81fa\\u5357\\u5927\\u5b78\\u9644\\u5c6c\\u555f\\u8070\\u5b78\\u6821\",\"\\u4ec1\\u6b66\\u7279\\u6b8a\\u6559\\u80b2\\u5b78\\u6821\",\"\\u5c4f\\u6771\\u7279\\u6b8a\\u6559\\u80b2\\u5b78\\u6821\",\"\\u5609\\u7fa9\\u7279\\u6b8a\\u6559\\u80b2\\u5b78\\u6821\",\"\\u81fa\\u5357\\u7279\\u6b8a\\u6559\\u80b2\\u5b78\\u6821\",\"\\u6960\\u6893\\u7279\\u6b8a\\u5b78\\u6821\",\"\\u6210\\u529f\\u7279\\u6b8a\\u6559\\u80b2\\u5b78\\u6821\",\"\\u9ad8\\u96c4\\u7279\\u6b8a\\u6559\\u80b2\\u5b78\\u6821\"],\"legendgroup\":\"\\u5357\",\"marker\":{\"color\":\"#00cc96\",\"size\":[2.0,2.727272727272727,4.9393939393939394,3.0135135135135136,3.3783783783783785,1.7848101265822784,2.953488372093023,2.7222222222222223],\"sizemode\":\"area\",\"sizeref\":0.005522875816993464,\"symbol\":\"circle\"},\"mode\":\"markers\",\"name\":\"\\u5357\",\"orientation\":\"v\",\"showlegend\":true,\"x\":[146,120,163,223,250,141,127,147],\"xaxis\":\"x\",\"y\":[73,44,33,74,74,79,43,54],\"yaxis\":\"y\",\"type\":\"scatter\"},{\"hovertemplate\":\"<b>%{hovertext}</b><br><br>\\u5340\\u57df=\\u6771<br>year=2020<br>\\u5b78\\u751f\\u7e3d\\u4eba\\u6578=%{x}<br>\\u6559\\u5e2b\\u7e3d\\u4eba\\u6578=%{y}<br>\\u5e2b\\u751f\\u6bd4=%{marker.size}<extra></extra>\",\"hovertext\":[\"\\u81fa\\u6771\\u5927\\u5b78\\u9644\\u5c6c\\u7279\\u6559\\u5b78\\u6821\",\"\\u82b1\\u84ee\\u7279\\u6b8a\\u6559\\u80b2\\u5b78\\u6821\"],\"ids\":[\"\\u81fa\\u6771\\u5927\\u5b78\\u9644\\u5c6c\\u7279\\u6559\\u5b78\\u6821\",\"\\u82b1\\u84ee\\u7279\\u6b8a\\u6559\\u80b2\\u5b78\\u6821\"],\"legendgroup\":\"\\u6771\",\"marker\":{\"color\":\"#ab63fa\",\"size\":[3.212121212121212,2.775],\"sizemode\":\"area\",\"sizeref\":0.005522875816993464,\"symbol\":\"circle\"},\"mode\":\"markers\",\"name\":\"\\u6771\",\"orientation\":\"v\",\"showlegend\":true,\"x\":[106,111],\"xaxis\":\"x\",\"y\":[33,40],\"yaxis\":\"y\",\"type\":\"scatter\"}],\"name\":\"2020\"},{\"data\":[{\"hovertemplate\":\"<b>%{hovertext}</b><br><br>\\u5340\\u57df=\\u5317<br>year=2019<br>\\u5b78\\u751f\\u7e3d\\u4eba\\u6578=%{x}<br>\\u6559\\u5e2b\\u7e3d\\u4eba\\u6578=%{y}<br>\\u5e2b\\u751f\\u6bd4=%{marker.size}<extra></extra>\",\"hovertext\":[\"\\u65b0\\u5317\\u7279\\u6b8a\\u6559\\u80b2\\u5b78\\u6821\",\"\\u5b9c\\u862d\\u7279\\u6b8a\\u6559\\u80b2\\u5b78\\u6821\",\"\\u6843\\u5712\\u7279\\u6b8a\\u6559\\u80b2\\u5b78\\u6821\",\"\\u65b0\\u7af9\\u7279\\u6b8a\\u6559\\u80b2\\u5b78\\u6821\",\"\\u81fa\\u5317\\u5e02\\u7acb\\u555f\\u8070\\u5b78\\u6821\",\"\\u81fa\\u5317\\u5e02\\u7acb\\u555f\\u667a\\u5b78\\u6821\",\"\\u81fa\\u5317\\u5e02\\u7acb\\u555f\\u660e\\u5b78\\u6821\",\"\\u6587\\u5c71\\u7279\\u6b8a\\u6559\\u80b2\\u5b78\\u6821\",\"\\u57fa\\u9686\\u7279\\u6b8a\\u6559\\u80b2\\u5b78\\u6821\"],\"ids\":[\"\\u65b0\\u5317\\u7279\\u6b8a\\u6559\\u80b2\\u5b78\\u6821\",\"\\u5b9c\\u862d\\u7279\\u6b8a\\u6559\\u80b2\\u5b78\\u6821\",\"\\u6843\\u5712\\u7279\\u6b8a\\u6559\\u80b2\\u5b78\\u6821\",\"\\u65b0\\u7af9\\u7279\\u6b8a\\u6559\\u80b2\\u5b78\\u6821\",\"\\u81fa\\u5317\\u5e02\\u7acb\\u555f\\u8070\\u5b78\\u6821\",\"\\u81fa\\u5317\\u5e02\\u7acb\\u555f\\u667a\\u5b78\\u6821\",\"\\u81fa\\u5317\\u5e02\\u7acb\\u555f\\u660e\\u5b78\\u6821\",\"\\u6587\\u5c71\\u7279\\u6b8a\\u6559\\u80b2\\u5b78\\u6821\",\"\\u57fa\\u9686\\u7279\\u6b8a\\u6559\\u80b2\\u5b78\\u6821\"],\"legendgroup\":\"\\u5317\",\"marker\":{\"color\":\"#636efa\",\"size\":[3.1494252873563218,2.7419354838709675,3.6636363636363636,3.925925925925926,1.4941176470588236,2.3461538461538463,1.5932203389830508,1.3597122302158273,3.896551724137931],\"sizemode\":\"area\",\"sizeref\":0.005522875816993464,\"symbol\":\"circle\"},\"mode\":\"markers\",\"name\":\"\\u5317\",\"orientation\":\"v\",\"showlegend\":true,\"x\":[274,85,403,212,127,244,94,189,113],\"xaxis\":\"x\",\"y\":[87,31,110,54,85,104,59,139,29],\"yaxis\":\"y\",\"type\":\"scatter\"},{\"hovertemplate\":\"<b>%{hovertext}</b><br><br>\\u5340\\u57df=\\u4e2d<br>year=2019<br>\\u5b78\\u751f\\u7e3d\\u4eba\\u6578=%{x}<br>\\u6559\\u5e2b\\u7e3d\\u4eba\\u6578=%{y}<br>\\u5e2b\\u751f\\u6bd4=%{marker.size}<extra></extra>\",\"hovertext\":[\"\\u60e0\\u660e\\u76f2\\u6821\",\"\\u81fa\\u4e2d\\u555f\\u660e\\u5b78\\u6821\",\"\\u548c\\u7f8e\\u5be6\\u9a57\\u5b78\\u6821\",\"\\u5f70\\u5316\\u7279\\u6b8a\\u6559\\u80b2\\u5b78\\u6821\",\"\\u5357\\u6295\\u7279\\u6b8a\\u6559\\u80b2\\u5b78\\u6821\",\"\\u81fa\\u4e2d\\u7279\\u6b8a\\u6559\\u80b2\\u5b78\\u6821\",\"\\u81fa\\u4e2d\\u555f\\u8070\\u5b78\\u6821\",\"\\u96f2\\u6797\\u7279\\u6b8a\\u6559\\u80b2\\u5b78\\u6821\",\"\\u82d7\\u6817\\u7279\\u6b8a\\u6559\\u80b2\\u5b78\\u6821\"],\"ids\":[\"\\u60e0\\u660e\\u76f2\\u6821\",\"\\u81fa\\u4e2d\\u555f\\u660e\\u5b78\\u6821\",\"\\u548c\\u7f8e\\u5be6\\u9a57\\u5b78\\u6821\",\"\\u5f70\\u5316\\u7279\\u6b8a\\u6559\\u80b2\\u5b78\\u6821\",\"\\u5357\\u6295\\u7279\\u6b8a\\u6559\\u80b2\\u5b78\\u6821\",\"\\u81fa\\u4e2d\\u7279\\u6b8a\\u6559\\u80b2\\u5b78\\u6821\",\"\\u81fa\\u4e2d\\u555f\\u8070\\u5b78\\u6821\",\"\\u96f2\\u6797\\u7279\\u6b8a\\u6559\\u80b2\\u5b78\\u6821\",\"\\u82d7\\u6817\\u7279\\u6b8a\\u6559\\u80b2\\u5b78\\u6821\"],\"legendgroup\":\"\\u4e2d\",\"marker\":{\"color\":\"#EF553B\",\"size\":[4.916666666666667,2.864864864864865,2.3260869565217392,3.32183908045977,3.4722222222222223,3.962962962962963,2.5402298850574714,3.62,3.027027027027027],\"sizemode\":\"area\",\"sizeref\":0.005522875816993464,\"symbol\":\"circle\"},\"mode\":\"markers\",\"name\":\"\\u4e2d\",\"orientation\":\"v\",\"showlegend\":true,\"x\":[59,106,214,289,125,321,221,181,112],\"xaxis\":\"x\",\"y\":[12,37,92,87,36,81,87,50,37],\"yaxis\":\"y\",\"type\":\"scatter\"},{\"hovertemplate\":\"<b>%{hovertext}</b><br><br>\\u5340\\u57df=\\u5357<br>year=2019<br>\\u5b78\\u751f\\u7e3d\\u4eba\\u6578=%{x}<br>\\u6559\\u5e2b\\u7e3d\\u4eba\\u6578=%{y}<br>\\u5e2b\\u751f\\u6bd4=%{marker.size}<extra></extra>\",\"hovertext\":[\"\\u81fa\\u5357\\u5927\\u5b78\\u9644\\u5c6c\\u555f\\u8070\\u5b78\\u6821\",\"\\u4ec1\\u6b66\\u7279\\u6b8a\\u6559\\u80b2\\u5b78\\u6821\",\"\\u5c4f\\u6771\\u7279\\u6b8a\\u6559\\u80b2\\u5b78\\u6821\",\"\\u5609\\u7fa9\\u7279\\u6b8a\\u6559\\u80b2\\u5b78\\u6821\",\"\\u81fa\\u5357\\u555f\\u667a\\u5b78\\u6821\",\"\\u6960\\u6893\\u7279\\u6b8a\\u5b78\\u6821\",\"\\u6210\\u529f\\u7279\\u6b8a\\u6559\\u80b2\\u5b78\\u6821\",\"\\u9ad8\\u96c4\\u7279\\u6b8a\\u6559\\u80b2\\u5b78\\u6821\"],\"ids\":[\"\\u81fa\\u5357\\u5927\\u5b78\\u9644\\u5c6c\\u555f\\u8070\\u5b78\\u6821\",\"\\u4ec1\\u6b66\\u7279\\u6b8a\\u6559\\u80b2\\u5b78\\u6821\",\"\\u5c4f\\u6771\\u7279\\u6b8a\\u6559\\u80b2\\u5b78\\u6821\",\"\\u5609\\u7fa9\\u7279\\u6b8a\\u6559\\u80b2\\u5b78\\u6821\",\"\\u81fa\\u5357\\u555f\\u667a\\u5b78\\u6821\",\"\\u6960\\u6893\\u7279\\u6b8a\\u5b78\\u6821\",\"\\u6210\\u529f\\u7279\\u6b8a\\u6559\\u80b2\\u5b78\\u6821\",\"\\u9ad8\\u96c4\\u7279\\u6b8a\\u6559\\u80b2\\u5b78\\u6821\"],\"legendgroup\":\"\\u5357\",\"marker\":{\"color\":\"#00cc96\",\"size\":[2.2205882352941178,3.3947368421052633,4.970588235294118,3.315068493150685,3.4935064935064934,2.0,2.86046511627907,3.2448979591836733],\"sizemode\":\"area\",\"sizeref\":0.005522875816993464,\"symbol\":\"circle\"},\"mode\":\"markers\",\"name\":\"\\u5357\",\"orientation\":\"v\",\"showlegend\":true,\"x\":[151,129,169,242,269,160,123,159],\"xaxis\":\"x\",\"y\":[68,38,34,73,77,80,43,49],\"yaxis\":\"y\",\"type\":\"scatter\"},{\"hovertemplate\":\"<b>%{hovertext}</b><br><br>\\u5340\\u57df=\\u6771<br>year=2019<br>\\u5b78\\u751f\\u7e3d\\u4eba\\u6578=%{x}<br>\\u6559\\u5e2b\\u7e3d\\u4eba\\u6578=%{y}<br>\\u5e2b\\u751f\\u6bd4=%{marker.size}<extra></extra>\",\"hovertext\":[\"\\u81fa\\u6771\\u5927\\u5b78\\u9644\\u5c6c\\u7279\\u6559\\u5b78\\u6821\",\"\\u82b1\\u84ee\\u7279\\u6b8a\\u6559\\u80b2\\u5b78\\u6821\"],\"ids\":[\"\\u81fa\\u6771\\u5927\\u5b78\\u9644\\u5c6c\\u7279\\u6559\\u5b78\\u6821\",\"\\u82b1\\u84ee\\u7279\\u6b8a\\u6559\\u80b2\\u5b78\\u6821\"],\"legendgroup\":\"\\u6771\",\"marker\":{\"color\":\"#ab63fa\",\"size\":[3.59375,3.0],\"sizemode\":\"area\",\"sizeref\":0.005522875816993464,\"symbol\":\"circle\"},\"mode\":\"markers\",\"name\":\"\\u6771\",\"orientation\":\"v\",\"showlegend\":true,\"x\":[115,129],\"xaxis\":\"x\",\"y\":[32,43],\"yaxis\":\"y\",\"type\":\"scatter\"}],\"name\":\"2019\"},{\"data\":[{\"hovertemplate\":\"<b>%{hovertext}</b><br><br>\\u5340\\u57df=\\u5317<br>year=2018<br>\\u5b78\\u751f\\u7e3d\\u4eba\\u6578=%{x}<br>\\u6559\\u5e2b\\u7e3d\\u4eba\\u6578=%{y}<br>\\u5e2b\\u751f\\u6bd4=%{marker.size}<extra></extra>\",\"hovertext\":[\"\\u65b0\\u5317\\u7279\\u6b8a\\u6559\\u80b2\\u5b78\\u6821\",\"\\u5b9c\\u862d\\u7279\\u6b8a\\u6559\\u80b2\\u5b78\\u6821\",\"\\u6843\\u5712\\u7279\\u6b8a\\u6559\\u80b2\\u5b78\\u6821\",\"\\u65b0\\u7af9\\u7279\\u6b8a\\u6559\\u80b2\\u5b78\\u6821\",\"\\u81fa\\u5317\\u5e02\\u7acb\\u555f\\u8070\\u5b78\\u6821\",\"\\u81fa\\u5317\\u5e02\\u7acb\\u555f\\u667a\\u5b78\\u6821\",\"\\u81fa\\u5317\\u5e02\\u7acb\\u555f\\u660e\\u5b78\\u6821\",\"\\u6587\\u5c71\\u7279\\u6b8a\\u6559\\u80b2\\u5b78\\u6821\",\"\\u57fa\\u9686\\u7279\\u6b8a\\u6559\\u80b2\\u5b78\\u6821\"],\"ids\":[\"\\u65b0\\u5317\\u7279\\u6b8a\\u6559\\u80b2\\u5b78\\u6821\",\"\\u5b9c\\u862d\\u7279\\u6b8a\\u6559\\u80b2\\u5b78\\u6821\",\"\\u6843\\u5712\\u7279\\u6b8a\\u6559\\u80b2\\u5b78\\u6821\",\"\\u65b0\\u7af9\\u7279\\u6b8a\\u6559\\u80b2\\u5b78\\u6821\",\"\\u81fa\\u5317\\u5e02\\u7acb\\u555f\\u8070\\u5b78\\u6821\",\"\\u81fa\\u5317\\u5e02\\u7acb\\u555f\\u667a\\u5b78\\u6821\",\"\\u81fa\\u5317\\u5e02\\u7acb\\u555f\\u660e\\u5b78\\u6821\",\"\\u6587\\u5c71\\u7279\\u6b8a\\u6559\\u80b2\\u5b78\\u6821\",\"\\u57fa\\u9686\\u7279\\u6b8a\\u6559\\u80b2\\u5b78\\u6821\"],\"legendgroup\":\"\\u5317\",\"marker\":{\"color\":\"#636efa\",\"size\":[3.8780487804878048,3.2903225806451615,3.809090909090909,4.155172413793103,1.7564102564102564,2.836734693877551,1.6774193548387097,1.5909090909090908,3.6774193548387095],\"sizemode\":\"area\",\"sizeref\":0.005522875816993464,\"symbol\":\"circle\"},\"mode\":\"markers\",\"name\":\"\\u5317\",\"orientation\":\"v\",\"showlegend\":true,\"x\":[318,102,419,241,137,278,104,210,114],\"xaxis\":\"x\",\"y\":[82,31,110,58,78,98,62,132,31],\"yaxis\":\"y\",\"type\":\"scatter\"},{\"hovertemplate\":\"<b>%{hovertext}</b><br><br>\\u5340\\u57df=\\u4e2d<br>year=2018<br>\\u5b78\\u751f\\u7e3d\\u4eba\\u6578=%{x}<br>\\u6559\\u5e2b\\u7e3d\\u4eba\\u6578=%{y}<br>\\u5e2b\\u751f\\u6bd4=%{marker.size}<extra></extra>\",\"hovertext\":[\"\\u60e0\\u660e\\u76f2\\u6821\",\"\\u81fa\\u4e2d\\u555f\\u660e\\u5b78\\u6821\",\"\\u548c\\u7f8e\\u5be6\\u9a57\\u5b78\\u6821\",\"\\u5f70\\u5316\\u7279\\u6b8a\\u6559\\u80b2\\u5b78\\u6821\",\"\\u5357\\u6295\\u7279\\u6b8a\\u6559\\u80b2\\u5b78\\u6821\",\"\\u81fa\\u4e2d\\u7279\\u6b8a\\u6559\\u80b2\\u5b78\\u6821\",\"\\u81fa\\u4e2d\\u555f\\u8070\\u5b78\\u6821\",\"\\u96f2\\u6797\\u7279\\u6b8a\\u6559\\u80b2\\u5b78\\u6821\",\"\\u82d7\\u6817\\u7279\\u6b8a\\u6559\\u80b2\\u5b78\\u6821\"],\"ids\":[\"\\u60e0\\u660e\\u76f2\\u6821\",\"\\u81fa\\u4e2d\\u555f\\u660e\\u5b78\\u6821\",\"\\u548c\\u7f8e\\u5be6\\u9a57\\u5b78\\u6821\",\"\\u5f70\\u5316\\u7279\\u6b8a\\u6559\\u80b2\\u5b78\\u6821\",\"\\u5357\\u6295\\u7279\\u6b8a\\u6559\\u80b2\\u5b78\\u6821\",\"\\u81fa\\u4e2d\\u7279\\u6b8a\\u6559\\u80b2\\u5b78\\u6821\",\"\\u81fa\\u4e2d\\u555f\\u8070\\u5b78\\u6821\",\"\\u96f2\\u6797\\u7279\\u6b8a\\u6559\\u80b2\\u5b78\\u6821\",\"\\u82d7\\u6817\\u7279\\u6b8a\\u6559\\u80b2\\u5b78\\u6821\"],\"legendgroup\":\"\\u4e2d\",\"marker\":{\"color\":\"#EF553B\",\"size\":[4.2,3.0,3.0821917808219177,3.1956521739130435,3.72972972972973,4.67948717948718,2.75531914893617,3.8627450980392157,3.1052631578947367],\"sizemode\":\"area\",\"sizeref\":0.005522875816993464,\"symbol\":\"circle\"},\"mode\":\"markers\",\"name\":\"\\u4e2d\",\"orientation\":\"v\",\"showlegend\":true,\"x\":[63,117,225,294,138,365,259,197,118],\"xaxis\":\"x\",\"y\":[15,39,73,92,37,78,94,51,38],\"yaxis\":\"y\",\"type\":\"scatter\"},{\"hovertemplate\":\"<b>%{hovertext}</b><br><br>\\u5340\\u57df=\\u5357<br>year=2018<br>\\u5b78\\u751f\\u7e3d\\u4eba\\u6578=%{x}<br>\\u6559\\u5e2b\\u7e3d\\u4eba\\u6578=%{y}<br>\\u5e2b\\u751f\\u6bd4=%{marker.size}<extra></extra>\",\"hovertext\":[\"\\u81fa\\u5357\\u5927\\u5b78\\u9644\\u5c6c\\u555f\\u8070\\u5b78\\u6821\",\"\\u4ec1\\u6b66\\u7279\\u6b8a\\u6559\\u80b2\\u5b78\\u6821\",\"\\u5c4f\\u6771\\u7279\\u6b8a\\u6559\\u80b2\\u5b78\\u6821\",\"\\u5609\\u7fa9\\u7279\\u6b8a\\u6559\\u80b2\\u5b78\\u6821\",\"\\u81fa\\u5357\\u555f\\u667a\\u5b78\\u6821\",\"\\u6960\\u6893\\u7279\\u6b8a\\u5b78\\u6821\",\"\\u6210\\u529f\\u7279\\u6b8a\\u6559\\u80b2\\u5b78\\u6821\",\"\\u9ad8\\u96c4\\u7279\\u6b8a\\u6559\\u80b2\\u5b78\\u6821\"],\"ids\":[\"\\u81fa\\u5357\\u5927\\u5b78\\u9644\\u5c6c\\u555f\\u8070\\u5b78\\u6821\",\"\\u4ec1\\u6b66\\u7279\\u6b8a\\u6559\\u80b2\\u5b78\\u6821\",\"\\u5c4f\\u6771\\u7279\\u6b8a\\u6559\\u80b2\\u5b78\\u6821\",\"\\u5609\\u7fa9\\u7279\\u6b8a\\u6559\\u80b2\\u5b78\\u6821\",\"\\u81fa\\u5357\\u555f\\u667a\\u5b78\\u6821\",\"\\u6960\\u6893\\u7279\\u6b8a\\u5b78\\u6821\",\"\\u6210\\u529f\\u7279\\u6b8a\\u6559\\u80b2\\u5b78\\u6821\",\"\\u9ad8\\u96c4\\u7279\\u6b8a\\u6559\\u80b2\\u5b78\\u6821\"],\"legendgroup\":\"\\u5357\",\"marker\":{\"color\":\"#00cc96\",\"size\":[2.7540983606557377,3.5945945945945947,4.675675675675675,3.493827160493827,3.2325581395348837,2.3,2.574468085106383,3.358490566037736],\"sizemode\":\"area\",\"sizeref\":0.005522875816993464,\"symbol\":\"circle\"},\"mode\":\"markers\",\"name\":\"\\u5357\",\"orientation\":\"v\",\"showlegend\":true,\"x\":[168,133,173,283,278,184,121,178],\"xaxis\":\"x\",\"y\":[61,37,37,81,86,80,47,53],\"yaxis\":\"y\",\"type\":\"scatter\"},{\"hovertemplate\":\"<b>%{hovertext}</b><br><br>\\u5340\\u57df=\\u6771<br>year=2018<br>\\u5b78\\u751f\\u7e3d\\u4eba\\u6578=%{x}<br>\\u6559\\u5e2b\\u7e3d\\u4eba\\u6578=%{y}<br>\\u5e2b\\u751f\\u6bd4=%{marker.size}<extra></extra>\",\"hovertext\":[\"\\u81fa\\u6771\\u5927\\u5b78\\u9644\\u5c6c\\u7279\\u6559\\u5b78\\u6821\",\"\\u82b1\\u84ee\\u7279\\u6b8a\\u6559\\u80b2\\u5b78\\u6821\"],\"ids\":[\"\\u81fa\\u6771\\u5927\\u5b78\\u9644\\u5c6c\\u7279\\u6559\\u5b78\\u6821\",\"\\u82b1\\u84ee\\u7279\\u6b8a\\u6559\\u80b2\\u5b78\\u6821\"],\"legendgroup\":\"\\u6771\",\"marker\":{\"color\":\"#ab63fa\",\"size\":[3.7586206896551726,3.1777777777777776],\"sizemode\":\"area\",\"sizeref\":0.005522875816993464,\"symbol\":\"circle\"},\"mode\":\"markers\",\"name\":\"\\u6771\",\"orientation\":\"v\",\"showlegend\":true,\"x\":[109,143],\"xaxis\":\"x\",\"y\":[29,45],\"yaxis\":\"y\",\"type\":\"scatter\"}],\"name\":\"2018\"}]);\n",
       "                        }).then(function(){\n",
       "                            \n",
       "var gd = document.getElementById('82e57b21-02ba-4d38-8f69-54a4f9b2bbdc');\n",
       "var x = new MutationObserver(function (mutations, observer) {{\n",
       "        var display = window.getComputedStyle(gd).display;\n",
       "        if (!display || display === 'none') {{\n",
       "            console.log([gd, 'removed!']);\n",
       "            Plotly.purge(gd);\n",
       "            observer.disconnect();\n",
       "        }}\n",
       "}});\n",
       "\n",
       "// Listen for the removal of the full notebook cells\n",
       "var notebookContainer = gd.closest('#notebook-container');\n",
       "if (notebookContainer) {{\n",
       "    x.observe(notebookContainer, {childList: true});\n",
       "}}\n",
       "\n",
       "// Listen for the clearing of the current output cell\n",
       "var outputEl = gd.closest('.output');\n",
       "if (outputEl) {{\n",
       "    x.observe(outputEl, {childList: true});\n",
       "}}\n",
       "\n",
       "                        })                };                });            </script>        </div>"
      ]
     },
     "metadata": {},
     "output_type": "display_data"
    }
   ],
   "source": [
    "px.scatter(result, x=\"學生總人數\", y=\"教師總人數\", animation_frame=\"year\", animation_group=\"學校\",size=\"師生比\", color=\"區域\", hover_name=\"學校\",log_x=True, size_max=30)"
   ]
  },
  {
   "cell_type": "code",
   "execution_count": 46,
   "metadata": {},
   "outputs": [],
   "source": []
  },
  {
   "cell_type": "code",
   "execution_count": null,
   "metadata": {},
   "outputs": [],
   "source": []
  }
 ],
 "metadata": {
  "kernelspec": {
   "display_name": "Python 3",
   "language": "python",
   "name": "python3"
  },
  "language_info": {
   "codemirror_mode": {
    "name": "ipython",
    "version": 3
   },
   "file_extension": ".py",
   "mimetype": "text/x-python",
   "name": "python",
   "nbconvert_exporter": "python",
   "pygments_lexer": "ipython3",
   "version": "3.8.3"
  }
 },
 "nbformat": 4,
 "nbformat_minor": 4
}
